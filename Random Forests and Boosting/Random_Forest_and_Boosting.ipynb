{
 "cells": [
  {
   "cell_type": "markdown",
   "metadata": {
    "id": "lpFKVB2nNWHL"
   },
   "source": [
    "# RANDOM FORESTS AND BOOSTING\n",
    "\n",
    "This lab is comprised of 4 parts:\n",
    "\n",
    "- 1. CART Baseline\n",
    "\n",
    "- 2. Random Forests (basic model and cross-validation)\n",
    "\n",
    "- 3. Gradient Boosted Trees (basic model and cross-validation)\n",
    "\n",
    "- 4. Model Comparison"
   ]
  },
  {
   "cell_type": "code",
   "execution_count": 1,
   "metadata": {
    "id": "xUf3y3oXNWHN"
   },
   "outputs": [],
   "source": [
    "import numpy as np\n",
    "import pandas as pd\n",
    "import matplotlib.pyplot as plt"
   ]
  },
  {
   "cell_type": "code",
   "execution_count": 2,
   "metadata": {
    "colab": {
     "base_uri": "https://localhost:8080/",
     "height": 605
    },
    "executionInfo": {
     "elapsed": 200,
     "status": "ok",
     "timestamp": 1713509068472,
     "user": {
      "displayName": "Ying Chen",
      "userId": "14109808973627602191"
     },
     "user_tz": 420
    },
    "id": "sRg7qlI4NWHO",
    "outputId": "82db62c0-5a33-4660-df5e-173b850f04c6"
   },
   "outputs": [
    {
     "name": "stdout",
     "output_type": "stream",
     "text": [
      "<class 'pandas.core.frame.DataFrame'>\n",
      "RangeIndex: 6057 entries, 0 to 6056\n",
      "Data columns (total 11 columns):\n",
      " #   Column         Non-Null Count  Dtype  \n",
      "---  ------         --------------  -----  \n",
      " 0   CTR            6057 non-null   float64\n",
      " 1   titleWords     6057 non-null   int64  \n",
      " 2   adWords        6057 non-null   int64  \n",
      " 3   depth          6057 non-null   int64  \n",
      " 4   position       6057 non-null   int64  \n",
      " 5   advCTR         6057 non-null   float64\n",
      " 6   advCTRInPos    6057 non-null   float64\n",
      " 7   queryCTR       6057 non-null   float64\n",
      " 8   queryCTRInPos  6057 non-null   float64\n",
      " 9   gender         6057 non-null   object \n",
      " 10  age            6057 non-null   object \n",
      "dtypes: float64(5), int64(4), object(2)\n",
      "memory usage: 520.6+ KB\n"
     ]
    },
    {
     "data": {
      "text/html": [
       "<div>\n",
       "<style scoped>\n",
       "    .dataframe tbody tr th:only-of-type {\n",
       "        vertical-align: middle;\n",
       "    }\n",
       "\n",
       "    .dataframe tbody tr th {\n",
       "        vertical-align: top;\n",
       "    }\n",
       "\n",
       "    .dataframe thead th {\n",
       "        text-align: right;\n",
       "    }\n",
       "</style>\n",
       "<table border=\"1\" class=\"dataframe\">\n",
       "  <thead>\n",
       "    <tr style=\"text-align: right;\">\n",
       "      <th></th>\n",
       "      <th>CTR</th>\n",
       "      <th>titleWords</th>\n",
       "      <th>adWords</th>\n",
       "      <th>depth</th>\n",
       "      <th>position</th>\n",
       "      <th>advCTR</th>\n",
       "      <th>advCTRInPos</th>\n",
       "      <th>queryCTR</th>\n",
       "      <th>queryCTRInPos</th>\n",
       "      <th>gender</th>\n",
       "      <th>age</th>\n",
       "    </tr>\n",
       "  </thead>\n",
       "  <tbody>\n",
       "    <tr>\n",
       "      <th>0</th>\n",
       "      <td>0.0000</td>\n",
       "      <td>8</td>\n",
       "      <td>17</td>\n",
       "      <td>1</td>\n",
       "      <td>1</td>\n",
       "      <td>0.0136</td>\n",
       "      <td>0.0153</td>\n",
       "      <td>0.0000</td>\n",
       "      <td>0.0000</td>\n",
       "      <td>male</td>\n",
       "      <td>0-12</td>\n",
       "    </tr>\n",
       "    <tr>\n",
       "      <th>1</th>\n",
       "      <td>0.0000</td>\n",
       "      <td>9</td>\n",
       "      <td>19</td>\n",
       "      <td>3</td>\n",
       "      <td>3</td>\n",
       "      <td>0.0199</td>\n",
       "      <td>0.0088</td>\n",
       "      <td>0.0394</td>\n",
       "      <td>0.0125</td>\n",
       "      <td>male</td>\n",
       "      <td>25-30</td>\n",
       "    </tr>\n",
       "    <tr>\n",
       "      <th>2</th>\n",
       "      <td>0.0675</td>\n",
       "      <td>6</td>\n",
       "      <td>30</td>\n",
       "      <td>2</td>\n",
       "      <td>1</td>\n",
       "      <td>0.0825</td>\n",
       "      <td>0.1002</td>\n",
       "      <td>0.0200</td>\n",
       "      <td>0.0256</td>\n",
       "      <td>female</td>\n",
       "      <td>13-18</td>\n",
       "    </tr>\n",
       "    <tr>\n",
       "      <th>3</th>\n",
       "      <td>0.0000</td>\n",
       "      <td>5</td>\n",
       "      <td>19</td>\n",
       "      <td>3</td>\n",
       "      <td>2</td>\n",
       "      <td>0.0116</td>\n",
       "      <td>0.0090</td>\n",
       "      <td>0.0042</td>\n",
       "      <td>0.0017</td>\n",
       "      <td>female</td>\n",
       "      <td>25-30</td>\n",
       "    </tr>\n",
       "    <tr>\n",
       "      <th>4</th>\n",
       "      <td>0.0000</td>\n",
       "      <td>10</td>\n",
       "      <td>22</td>\n",
       "      <td>1</td>\n",
       "      <td>1</td>\n",
       "      <td>0.0186</td>\n",
       "      <td>0.0284</td>\n",
       "      <td>0.0294</td>\n",
       "      <td>0.0431</td>\n",
       "      <td>female</td>\n",
       "      <td>0-12</td>\n",
       "    </tr>\n",
       "  </tbody>\n",
       "</table>\n",
       "</div>"
      ],
      "text/plain": [
       "      CTR  titleWords  adWords  depth  position  advCTR  advCTRInPos  \\\n",
       "0  0.0000           8       17      1         1  0.0136       0.0153   \n",
       "1  0.0000           9       19      3         3  0.0199       0.0088   \n",
       "2  0.0675           6       30      2         1  0.0825       0.1002   \n",
       "3  0.0000           5       19      3         2  0.0116       0.0090   \n",
       "4  0.0000          10       22      1         1  0.0186       0.0284   \n",
       "\n",
       "   queryCTR  queryCTRInPos  gender    age  \n",
       "0    0.0000         0.0000    male   0-12  \n",
       "1    0.0394         0.0125    male  25-30  \n",
       "2    0.0200         0.0256  female  13-18  \n",
       "3    0.0042         0.0017  female  25-30  \n",
       "4    0.0294         0.0431  female   0-12  "
      ]
     },
     "execution_count": 2,
     "metadata": {},
     "output_type": "execute_result"
    }
   ],
   "source": [
    "ctr = pd.read_csv(\"CTR.csv\")\n",
    "ctr.info()\n",
    "ctr.head()"
   ]
  },
  {
   "cell_type": "code",
   "execution_count": 3,
   "metadata": {
    "id": "CfOvc27nNWHO"
   },
   "outputs": [],
   "source": [
    "def OSR2(model, X_test, y_test, y_train):\n",
    "\n",
    "    y_pred = model.predict(X_test)\n",
    "    SSE = np.sum((y_test - y_pred)**2)\n",
    "    SST = np.sum((y_test - np.mean(y_train))**2)\n",
    "\n",
    "    return (1 - SSE/SST)"
   ]
  },
  {
   "cell_type": "markdown",
   "metadata": {
    "id": "FZEK3cqGNWHO"
   },
   "source": [
    "## 1. CART BASELINE"
   ]
  },
  {
   "cell_type": "markdown",
   "metadata": {
    "id": "J7ScHQ64NWHO"
   },
   "source": [
    "### Decision Tree Regressor with CV\n",
    "\n",
    "We will use a standard decision tree to establish a reference against which to evaluate the ensemble models"
   ]
  },
  {
   "cell_type": "markdown",
   "metadata": {
    "id": "EnYUHOr2NWHP"
   },
   "source": [
    "#### 1.0 Train test split"
   ]
  },
  {
   "cell_type": "code",
   "execution_count": 4,
   "metadata": {
    "colab": {
     "base_uri": "https://localhost:8080/"
    },
    "executionInfo": {
     "elapsed": 205,
     "status": "ok",
     "timestamp": 1713509074522,
     "user": {
      "displayName": "Ying Chen",
      "userId": "14109808973627602191"
     },
     "user_tz": 420
    },
    "id": "uVwf8ADANWHP",
    "outputId": "ca2b72c4-bbd5-4ab8-80cc-f1457205a9ea"
   },
   "outputs": [
    {
     "data": {
      "text/plain": [
       "((4239, 18), (1818, 18))"
      ]
     },
     "execution_count": 4,
     "metadata": {},
     "output_type": "execute_result"
    }
   ],
   "source": [
    "from sklearn.model_selection import train_test_split\n",
    "\n",
    "y = ctr['CTR']\n",
    "X = pd.get_dummies(ctr.drop(['CTR'], axis=1))\n",
    "\n",
    "X_train, X_test, y_train, y_test = train_test_split(X, y, test_size=0.3, random_state=88)\n",
    "X_train.shape, X_test.shape"
   ]
  },
  {
   "cell_type": "markdown",
   "metadata": {
    "id": "1ZzAZdSsNWHP"
   },
   "source": [
    "#### 1.1 Define the grid values and perform the Grid Search Cross-Validation"
   ]
  },
  {
   "cell_type": "code",
   "execution_count": 5,
   "metadata": {
    "colab": {
     "base_uri": "https://localhost:8080/",
     "height": 116
    },
    "executionInfo": {
     "elapsed": 8594,
     "status": "ok",
     "timestamp": 1713509085054,
     "user": {
      "displayName": "Ying Chen",
      "userId": "14109808973627602191"
     },
     "user_tz": 420
    },
    "id": "97fccT3zNWHP",
    "outputId": "65f38050-f5fe-4930-d26d-63e5a755181c"
   },
   "outputs": [
    {
     "data": {
      "text/html": [
       "<style>#sk-container-id-1 {color: black;background-color: white;}#sk-container-id-1 pre{padding: 0;}#sk-container-id-1 div.sk-toggleable {background-color: white;}#sk-container-id-1 label.sk-toggleable__label {cursor: pointer;display: block;width: 100%;margin-bottom: 0;padding: 0.3em;box-sizing: border-box;text-align: center;}#sk-container-id-1 label.sk-toggleable__label-arrow:before {content: \"▸\";float: left;margin-right: 0.25em;color: #696969;}#sk-container-id-1 label.sk-toggleable__label-arrow:hover:before {color: black;}#sk-container-id-1 div.sk-estimator:hover label.sk-toggleable__label-arrow:before {color: black;}#sk-container-id-1 div.sk-toggleable__content {max-height: 0;max-width: 0;overflow: hidden;text-align: left;background-color: #f0f8ff;}#sk-container-id-1 div.sk-toggleable__content pre {margin: 0.2em;color: black;border-radius: 0.25em;background-color: #f0f8ff;}#sk-container-id-1 input.sk-toggleable__control:checked~div.sk-toggleable__content {max-height: 200px;max-width: 100%;overflow: auto;}#sk-container-id-1 input.sk-toggleable__control:checked~label.sk-toggleable__label-arrow:before {content: \"▾\";}#sk-container-id-1 div.sk-estimator input.sk-toggleable__control:checked~label.sk-toggleable__label {background-color: #d4ebff;}#sk-container-id-1 div.sk-label input.sk-toggleable__control:checked~label.sk-toggleable__label {background-color: #d4ebff;}#sk-container-id-1 input.sk-hidden--visually {border: 0;clip: rect(1px 1px 1px 1px);clip: rect(1px, 1px, 1px, 1px);height: 1px;margin: -1px;overflow: hidden;padding: 0;position: absolute;width: 1px;}#sk-container-id-1 div.sk-estimator {font-family: monospace;background-color: #f0f8ff;border: 1px dotted black;border-radius: 0.25em;box-sizing: border-box;margin-bottom: 0.5em;}#sk-container-id-1 div.sk-estimator:hover {background-color: #d4ebff;}#sk-container-id-1 div.sk-parallel-item::after {content: \"\";width: 100%;border-bottom: 1px solid gray;flex-grow: 1;}#sk-container-id-1 div.sk-label:hover label.sk-toggleable__label {background-color: #d4ebff;}#sk-container-id-1 div.sk-serial::before {content: \"\";position: absolute;border-left: 1px solid gray;box-sizing: border-box;top: 0;bottom: 0;left: 50%;z-index: 0;}#sk-container-id-1 div.sk-serial {display: flex;flex-direction: column;align-items: center;background-color: white;padding-right: 0.2em;padding-left: 0.2em;position: relative;}#sk-container-id-1 div.sk-item {position: relative;z-index: 1;}#sk-container-id-1 div.sk-parallel {display: flex;align-items: stretch;justify-content: center;background-color: white;position: relative;}#sk-container-id-1 div.sk-item::before, #sk-container-id-1 div.sk-parallel-item::before {content: \"\";position: absolute;border-left: 1px solid gray;box-sizing: border-box;top: 0;bottom: 0;left: 50%;z-index: -1;}#sk-container-id-1 div.sk-parallel-item {display: flex;flex-direction: column;z-index: 1;position: relative;background-color: white;}#sk-container-id-1 div.sk-parallel-item:first-child::after {align-self: flex-end;width: 50%;}#sk-container-id-1 div.sk-parallel-item:last-child::after {align-self: flex-start;width: 50%;}#sk-container-id-1 div.sk-parallel-item:only-child::after {width: 0;}#sk-container-id-1 div.sk-dashed-wrapped {border: 1px dashed gray;margin: 0 0.4em 0.5em 0.4em;box-sizing: border-box;padding-bottom: 0.4em;background-color: white;}#sk-container-id-1 div.sk-label label {font-family: monospace;font-weight: bold;display: inline-block;line-height: 1.2em;}#sk-container-id-1 div.sk-label-container {text-align: center;}#sk-container-id-1 div.sk-container {/* jupyter's `normalize.less` sets `[hidden] { display: none; }` but bootstrap.min.css set `[hidden] { display: none !important; }` so we also need the `!important` here to be able to override the default hidden behavior on the sphinx rendered scikit-learn.org. See: https://github.com/scikit-learn/scikit-learn/issues/21755 */display: inline-block !important;position: relative;}#sk-container-id-1 div.sk-text-repr-fallback {display: none;}</style><div id=\"sk-container-id-1\" class=\"sk-top-container\"><div class=\"sk-text-repr-fallback\"><pre>GridSearchCV(cv=KFold(n_splits=5, random_state=1, shuffle=True),\n",
       "             estimator=DecisionTreeRegressor(min_samples_leaf=5,\n",
       "                                             min_samples_split=20,\n",
       "                                             random_state=88),\n",
       "             param_grid={&#x27;ccp_alpha&#x27;: array([0.0e+00, 2.0e-05, 4.0e-05, 6.0e-05, 8.0e-05, 1.0e-04, 1.2e-04,\n",
       "       1.4e-04, 1.6e-04, 1.8e-04, 2.0e-04, 2.2e-04, 2.4e-04, 2.6e-04,\n",
       "       2.8e-04, 3.0e-04, 3.2e-04, 3.4e-04, 3.6e-04, 3.8e-04, 4.0e-04,\n",
       "       4.2e-04, 4.4e-04, 4.6e-04, 4.8e-04, 5.0e-04, 5.2e-04, 5.4e-04,\n",
       "       5.6e-04, 5.8e-04, 6.0e-04, 6.2e-04, 6.4e-04, 6.6e-04, 6.8e-04,\n",
       "       7.0e-04, 7.2e-04, 7.4e-04, 7.6e-04, 7.8e-04, 8.0e-04, 8.2e-04,\n",
       "       8.4e-04, 8.6e-04, 8.8e-04, 9.0e-04, 9.2e-04, 9.4e-04, 9.6e-04,\n",
       "       9.8e-04, 1.0e-03])},\n",
       "             scoring=&#x27;r2&#x27;)</pre><b>In a Jupyter environment, please rerun this cell to show the HTML representation or trust the notebook. <br />On GitHub, the HTML representation is unable to render, please try loading this page with nbviewer.org.</b></div><div class=\"sk-container\" hidden><div class=\"sk-item sk-dashed-wrapped\"><div class=\"sk-label-container\"><div class=\"sk-label sk-toggleable\"><input class=\"sk-toggleable__control sk-hidden--visually\" id=\"sk-estimator-id-1\" type=\"checkbox\" ><label for=\"sk-estimator-id-1\" class=\"sk-toggleable__label sk-toggleable__label-arrow\">GridSearchCV</label><div class=\"sk-toggleable__content\"><pre>GridSearchCV(cv=KFold(n_splits=5, random_state=1, shuffle=True),\n",
       "             estimator=DecisionTreeRegressor(min_samples_leaf=5,\n",
       "                                             min_samples_split=20,\n",
       "                                             random_state=88),\n",
       "             param_grid={&#x27;ccp_alpha&#x27;: array([0.0e+00, 2.0e-05, 4.0e-05, 6.0e-05, 8.0e-05, 1.0e-04, 1.2e-04,\n",
       "       1.4e-04, 1.6e-04, 1.8e-04, 2.0e-04, 2.2e-04, 2.4e-04, 2.6e-04,\n",
       "       2.8e-04, 3.0e-04, 3.2e-04, 3.4e-04, 3.6e-04, 3.8e-04, 4.0e-04,\n",
       "       4.2e-04, 4.4e-04, 4.6e-04, 4.8e-04, 5.0e-04, 5.2e-04, 5.4e-04,\n",
       "       5.6e-04, 5.8e-04, 6.0e-04, 6.2e-04, 6.4e-04, 6.6e-04, 6.8e-04,\n",
       "       7.0e-04, 7.2e-04, 7.4e-04, 7.6e-04, 7.8e-04, 8.0e-04, 8.2e-04,\n",
       "       8.4e-04, 8.6e-04, 8.8e-04, 9.0e-04, 9.2e-04, 9.4e-04, 9.6e-04,\n",
       "       9.8e-04, 1.0e-03])},\n",
       "             scoring=&#x27;r2&#x27;)</pre></div></div></div><div class=\"sk-parallel\"><div class=\"sk-parallel-item\"><div class=\"sk-item\"><div class=\"sk-label-container\"><div class=\"sk-label sk-toggleable\"><input class=\"sk-toggleable__control sk-hidden--visually\" id=\"sk-estimator-id-2\" type=\"checkbox\" ><label for=\"sk-estimator-id-2\" class=\"sk-toggleable__label sk-toggleable__label-arrow\">estimator: DecisionTreeRegressor</label><div class=\"sk-toggleable__content\"><pre>DecisionTreeRegressor(min_samples_leaf=5, min_samples_split=20, random_state=88)</pre></div></div></div><div class=\"sk-serial\"><div class=\"sk-item\"><div class=\"sk-estimator sk-toggleable\"><input class=\"sk-toggleable__control sk-hidden--visually\" id=\"sk-estimator-id-3\" type=\"checkbox\" ><label for=\"sk-estimator-id-3\" class=\"sk-toggleable__label sk-toggleable__label-arrow\">DecisionTreeRegressor</label><div class=\"sk-toggleable__content\"><pre>DecisionTreeRegressor(min_samples_leaf=5, min_samples_split=20, random_state=88)</pre></div></div></div></div></div></div></div></div></div></div>"
      ],
      "text/plain": [
       "GridSearchCV(cv=KFold(n_splits=5, random_state=1, shuffle=True),\n",
       "             estimator=DecisionTreeRegressor(min_samples_leaf=5,\n",
       "                                             min_samples_split=20,\n",
       "                                             random_state=88),\n",
       "             param_grid={'ccp_alpha': array([0.0e+00, 2.0e-05, 4.0e-05, 6.0e-05, 8.0e-05, 1.0e-04, 1.2e-04,\n",
       "       1.4e-04, 1.6e-04, 1.8e-04, 2.0e-04, 2.2e-04, 2.4e-04, 2.6e-04,\n",
       "       2.8e-04, 3.0e-04, 3.2e-04, 3.4e-04, 3.6e-04, 3.8e-04, 4.0e-04,\n",
       "       4.2e-04, 4.4e-04, 4.6e-04, 4.8e-04, 5.0e-04, 5.2e-04, 5.4e-04,\n",
       "       5.6e-04, 5.8e-04, 6.0e-04, 6.2e-04, 6.4e-04, 6.6e-04, 6.8e-04,\n",
       "       7.0e-04, 7.2e-04, 7.4e-04, 7.6e-04, 7.8e-04, 8.0e-04, 8.2e-04,\n",
       "       8.4e-04, 8.6e-04, 8.8e-04, 9.0e-04, 9.2e-04, 9.4e-04, 9.6e-04,\n",
       "       9.8e-04, 1.0e-03])},\n",
       "             scoring='r2')"
      ]
     },
     "execution_count": 5,
     "metadata": {},
     "output_type": "execute_result"
    }
   ],
   "source": [
    "from sklearn.model_selection import GridSearchCV\n",
    "from sklearn.tree import DecisionTreeRegressor\n",
    "from sklearn.model_selection import KFold\n",
    "\n",
    "grid_values = {'ccp_alpha': np.linspace(0, 0.001, 51)}\n",
    "\n",
    "dtr = DecisionTreeRegressor(min_samples_leaf=5, min_samples_split=20, random_state=88)\n",
    "\n",
    "### Note that the line below is important. It ensures that the training data is split into\n",
    "### five folds randomly. Recall what we've seen in the discussion slides that by default,\n",
    "### GridSearchCV will split the training data without shuffling.\n",
    "cv = KFold(n_splits=5,random_state=1,shuffle=True)\n",
    "### by setting random_state as a fixed number, we ensure that each time the GridSearchCV splits data,\n",
    "### we get the same split.\n",
    "dtr_cv = GridSearchCV(dtr, param_grid=grid_values, scoring='r2', cv=cv, verbose=0)\n",
    "dtr_cv.fit(X_train, y_train)"
   ]
  },
  {
   "cell_type": "markdown",
   "metadata": {
    "id": "Fl9LCVQGNWHP"
   },
   "source": [
    "#### 1.2 Select the best hyperparameter"
   ]
  },
  {
   "cell_type": "code",
   "execution_count": 6,
   "metadata": {
    "colab": {
     "base_uri": "https://localhost:8080/",
     "height": 606
    },
    "executionInfo": {
     "elapsed": 354,
     "status": "ok",
     "timestamp": 1713509085406,
     "user": {
      "displayName": "Ying Chen",
      "userId": "14109808973627602191"
     },
     "user_tz": 420
    },
    "id": "MNIWXtB-NWHQ",
    "outputId": "a32a181a-7fed-4180-f935-4d081a2b0a4b"
   },
   "outputs": [
    {
     "data": {
      "image/png": "[encoded data removed]",
      "text/plain": [
       "<Figure size 800x600 with 1 Axes>"
      ]
     },
     "metadata": {},
     "output_type": "display_data"
    }
   ],
   "source": [
    "ccp_alpha = dtr_cv.cv_results_['param_ccp_alpha'].data\n",
    "R2_scores = dtr_cv.cv_results_['mean_test_score']\n",
    "\n",
    "plt.figure(figsize=(8, 6))\n",
    "plt.xlabel('ccp_alpha', fontsize=16)\n",
    "plt.ylabel('CV R2', fontsize=16)\n",
    "plt.scatter(ccp_alpha, R2_scores, s=30)\n",
    "plt.plot(ccp_alpha, R2_scores, linewidth=3)\n",
    "plt.grid(True, which='both')\n",
    "plt.xlim([0, 0.00055])\n",
    "plt.ylim([0.2, 0.5])\n",
    "\n",
    "plt.tight_layout()\n",
    "plt.show()"
   ]
  },
  {
   "cell_type": "code",
   "execution_count": 7,
   "metadata": {
    "colab": {
     "base_uri": "https://localhost:8080/"
    },
    "executionInfo": {
     "elapsed": 4,
     "status": "ok",
     "timestamp": 1713509085406,
     "user": {
      "displayName": "Ying Chen",
      "userId": "14109808973627602191"
     },
     "user_tz": 420
    },
    "id": "SMmLbE9fNWHQ",
    "outputId": "c310f37f-974a-41d1-9035-a1c915698a50",
    "scrolled": true
   },
   "outputs": [
    {
     "name": "stdout",
     "output_type": "stream",
     "text": [
      "Best ccp_alpha {'ccp_alpha': 6.000000000000001e-05}\n"
     ]
    }
   ],
   "source": [
    "print('Best ccp_alpha', dtr_cv.best_params_)"
   ]
  },
  {
   "cell_type": "markdown",
   "metadata": {
    "id": "D1W6rsAqNWHQ"
   },
   "source": [
    "#### 1.3 Evaluate the model performance (trained on the entire training set)"
   ]
  },
  {
   "cell_type": "code",
   "execution_count": 8,
   "metadata": {
    "colab": {
     "base_uri": "https://localhost:8080/"
    },
    "executionInfo": {
     "elapsed": 3,
     "status": "ok",
     "timestamp": 1713509085406,
     "user": {
      "displayName": "Ying Chen",
      "userId": "14109808973627602191"
     },
     "user_tz": 420
    },
    "id": "lJK5igsUNWHQ",
    "outputId": "930c8c3d-4ef8-4eda-9f14-73f1bb20de78"
   },
   "outputs": [
    {
     "name": "stdout",
     "output_type": "stream",
     "text": [
      "Cross-validated R2: 0.41349\n",
      "OSR2: 0.4819\n"
     ]
    }
   ],
   "source": [
    "# Model Evaluation\n",
    "print('Cross-validated R2:', round(dtr_cv.best_score_, 5))\n",
    "print('OSR2:', round(OSR2(dtr_cv, X_test, y_test, y_train), 5))"
   ]
  },
  {
   "cell_type": "markdown",
   "metadata": {
    "id": "dVoPDkdeNWHQ"
   },
   "source": [
    "## 2. RANDOM FORESTS"
   ]
  },
  {
   "cell_type": "markdown",
   "metadata": {
    "id": "iB-igybyNWHQ"
   },
   "source": [
    "### 2.1 Random Forest Regressor"
   ]
  },
  {
   "cell_type": "code",
   "execution_count": 9,
   "metadata": {
    "colab": {
     "base_uri": "https://localhost:8080/",
     "height": 1000
    },
    "executionInfo": {
     "elapsed": 3243,
     "status": "ok",
     "timestamp": 1713509091027,
     "user": {
      "displayName": "Ying Chen",
      "userId": "14109808973627602191"
     },
     "user_tz": 420
    },
    "id": "iE49t8DiNWHR",
    "outputId": "b2a67c8c-f2fe-4b66-b541-f5f0949717b9"
   },
   "outputs": [
    {
     "name": "stdout",
     "output_type": "stream",
     "text": [
      "building tree 1 of 500\n",
      "building tree 2 of 500\n",
      "building tree 3 of 500\n",
      "building tree 4 of 500\n",
      "building tree 5 of 500\n",
      "building tree 6 of 500\n",
      "building tree 7 of 500\n",
      "building tree 8 of 500\n",
      "building tree 9 of 500\n",
      "building tree 10 of 500\n",
      "building tree 11 of 500\n",
      "building tree 12 of 500\n",
      "building tree 13 of 500\n",
      "building tree 14 of 500\n",
      "building tree 15 of 500\n",
      "building tree 16 of 500\n",
      "building tree 17 of 500\n",
      "building tree 18 of 500\n",
      "building tree 19 of 500\n",
      "building tree 20 of 500\n",
      "building tree 21 of 500\n",
      "building tree 22 of 500\n",
      "building tree 23 of 500\n",
      "building tree 24 of 500\n",
      "building tree 25 of 500\n",
      "building tree 26 of 500\n",
      "building tree 27 of 500\n",
      "building tree 28 of 500\n",
      "building tree 29 of 500\n",
      "building tree 30 of 500\n",
      "building tree 31 of 500\n",
      "building tree 32 of 500\n",
      "building tree 33 of 500\n",
      "building tree 34 of 500\n",
      "building tree 35 of 500\n",
      "building tree 36 of 500\n",
      "building tree 37 of 500\n",
      "building tree 38 of 500\n",
      "building tree 39 of 500\n",
      "building tree 40 of 500\n",
      "building tree 41 of 500\n",
      "building tree 42 of 500\n",
      "building tree 43 of 500\n",
      "building tree 44 of 500\n",
      "building tree 45 of 500\n",
      "building tree 46 of 500\n",
      "building tree 47 of 500\n",
      "building tree 48 of 500\n",
      "building tree 49 of 500\n",
      "building tree 50 of 500\n",
      "building tree 51 of 500\n",
      "building tree 52 of 500\n",
      "building tree 53 of 500\n",
      "building tree 54 of 500\n",
      "building tree 55 of 500\n",
      "building tree 56 of 500\n"
     ]
    },
    {
     "name": "stderr",
     "output_type": "stream",
     "text": [
      "[Parallel(n_jobs=1)]: Done  40 tasks      | elapsed:    0.2s\n"
     ]
    },
    {
     "name": "stdout",
     "output_type": "stream",
     "text": [
      "building tree 57 of 500\n",
      "building tree 58 of 500\n",
      "building tree 59 of 500\n",
      "building tree 60 of 500\n",
      "building tree 61 of 500\n",
      "building tree 62 of 500\n",
      "building tree 63 of 500\n",
      "building tree 64 of 500\n",
      "building tree 65 of 500\n",
      "building tree 66 of 500\n",
      "building tree 67 of 500\n",
      "building tree 68 of 500\n",
      "building tree 69 of 500\n",
      "building tree 70 of 500\n",
      "building tree 71 of 500\n",
      "building tree 72 of 500\n",
      "building tree 73 of 500\n",
      "building tree 74 of 500\n",
      "building tree 75 of 500\n",
      "building tree 76 of 500\n",
      "building tree 77 of 500\n",
      "building tree 78 of 500\n",
      "building tree 79 of 500\n",
      "building tree 80 of 500\n",
      "building tree 81 of 500\n",
      "building tree 82 of 500\n",
      "building tree 83 of 500\n",
      "building tree 84 of 500\n",
      "building tree 85 of 500\n",
      "building tree 86 of 500\n",
      "building tree 87 of 500\n",
      "building tree 88 of 500\n",
      "building tree 89 of 500\n",
      "building tree 90 of 500\n",
      "building tree 91 of 500\n",
      "building tree 92 of 500\n",
      "building tree 93 of 500\n",
      "building tree 94 of 500\n",
      "building tree 95 of 500\n",
      "building tree 96 of 500\n",
      "building tree 97 of 500\n",
      "building tree 98 of 500\n",
      "building tree 99 of 500\n",
      "building tree 100 of 500\n",
      "building tree 101 of 500\n",
      "building tree 102 of 500\n",
      "building tree 103 of 500\n",
      "building tree 104 of 500\n",
      "building tree 105 of 500\n",
      "building tree 106 of 500\n",
      "building tree 107 of 500\n",
      "building tree 108 of 500\n",
      "building tree 109 of 500\n",
      "building tree 110 of 500\n",
      "building tree 111 of 500\n",
      "building tree 112 of 500\n",
      "building tree 113 of 500\n",
      "building tree 114 of 500\n",
      "building tree 115 of 500\n",
      "building tree 116 of 500\n",
      "building tree 117 of 500\n",
      "building tree 118 of 500\n",
      "building tree 119 of 500\n",
      "building tree 120 of 500\n",
      "building tree 121 of 500\n",
      "building tree 122 of 500\n",
      "building tree 123 of 500\n",
      "building tree 124 of 500\n",
      "building tree 125 of 500\n",
      "building tree 126 of 500\n",
      "building tree 127 of 500\n",
      "building tree 128 of 500\n",
      "building tree 129 of 500\n",
      "building tree 130 of 500\n",
      "building tree 131 of 500\n",
      "building tree 132 of 500\n",
      "building tree 133 of 500\n",
      "building tree 134 of 500\n",
      "building tree 135 of 500\n",
      "building tree 136 of 500\n",
      "building tree 137 of 500\n",
      "building tree 138 of 500\n",
      "building tree 139 of 500\n",
      "building tree 140 of 500\n",
      "building tree 141 of 500\n",
      "building tree 142 of 500\n",
      "building tree 143 of 500\n",
      "building tree 144 of 500\n",
      "building tree 145 of 500\n",
      "building tree 146 of 500\n",
      "building tree 147 of 500\n",
      "building tree 148 of 500\n",
      "building tree 149 of 500\n",
      "building tree 150 of 500\n",
      "building tree 151 of 500\n",
      "building tree 152 of 500\n",
      "building tree 153 of 500\n",
      "building tree 154 of 500\n",
      "building tree 155 of 500\n",
      "building tree 156 of 500\n",
      "building tree 157 of 500\n",
      "building tree 158 of 500\n",
      "building tree 159 of 500\n",
      "building tree 160 of 500\n",
      "building tree 161 of 500\n",
      "building tree 162 of 500\n",
      "building tree 163 of 500\n",
      "building tree 164 of 500\n",
      "building tree 165 of 500\n",
      "building tree 166 of 500\n",
      "building tree 167 of 500\n",
      "building tree 168 of 500\n",
      "building tree 169 of 500\n",
      "building tree 170 of 500\n",
      "building tree 171 of 500\n",
      "building tree 172 of 500\n",
      "building tree 173 of 500\n",
      "building tree 174 of 500\n",
      "building tree 175 of 500\n",
      "building tree 176 of 500\n",
      "building tree 177 of 500\n",
      "building tree 178 of 500\n",
      "building tree 179 of 500\n",
      "building tree 180 of 500\n",
      "building tree 181 of 500\n",
      "building tree 182 of 500\n",
      "building tree 183 of 500\n",
      "building tree 184 of 500\n",
      "building tree 185 of 500\n",
      "building tree 186 of 500\n",
      "building tree 187 of 500\n",
      "building tree 188 of 500\n",
      "building tree 189 of 500\n"
     ]
    },
    {
     "name": "stderr",
     "output_type": "stream",
     "text": [
      "[Parallel(n_jobs=1)]: Done 161 tasks      | elapsed:    0.8s\n"
     ]
    },
    {
     "name": "stdout",
     "output_type": "stream",
     "text": [
      "building tree 190 of 500\n",
      "building tree 191 of 500\n",
      "building tree 192 of 500\n",
      "building tree 193 of 500\n",
      "building tree 194 of 500\n",
      "building tree 195 of 500\n",
      "building tree 196 of 500\n",
      "building tree 197 of 500\n",
      "building tree 198 of 500\n",
      "building tree 199 of 500\n",
      "building tree 200 of 500\n",
      "building tree 201 of 500\n",
      "building tree 202 of 500\n",
      "building tree 203 of 500\n",
      "building tree 204 of 500\n",
      "building tree 205 of 500\n",
      "building tree 206 of 500\n",
      "building tree 207 of 500\n",
      "building tree 208 of 500\n",
      "building tree 209 of 500\n",
      "building tree 210 of 500\n",
      "building tree 211 of 500\n",
      "building tree 212 of 500\n",
      "building tree 213 of 500\n",
      "building tree 214 of 500\n",
      "building tree 215 of 500\n",
      "building tree 216 of 500\n",
      "building tree 217 of 500\n",
      "building tree 218 of 500\n",
      "building tree 219 of 500\n",
      "building tree 220 of 500\n",
      "building tree 221 of 500\n",
      "building tree 222 of 500\n",
      "building tree 223 of 500\n",
      "building tree 224 of 500\n",
      "building tree 225 of 500\n",
      "building tree 226 of 500\n",
      "building tree 227 of 500\n",
      "building tree 228 of 500\n",
      "building tree 229 of 500\n",
      "building tree 230 of 500\n",
      "building tree 231 of 500\n",
      "building tree 232 of 500\n",
      "building tree 233 of 500\n",
      "building tree 234 of 500\n",
      "building tree 235 of 500\n",
      "building tree 236 of 500\n",
      "building tree 237 of 500\n",
      "building tree 238 of 500\n",
      "building tree 239 of 500\n",
      "building tree 240 of 500\n",
      "building tree 241 of 500\n",
      "building tree 242 of 500\n",
      "building tree 243 of 500\n",
      "building tree 244 of 500\n",
      "building tree 245 of 500\n",
      "building tree 246 of 500\n",
      "building tree 247 of 500\n",
      "building tree 248 of 500\n",
      "building tree 249 of 500\n",
      "building tree 250 of 500\n",
      "building tree 251 of 500\n",
      "building tree 252 of 500\n",
      "building tree 253 of 500\n",
      "building tree 254 of 500\n",
      "building tree 255 of 500\n",
      "building tree 256 of 500\n",
      "building tree 257 of 500\n",
      "building tree 258 of 500\n",
      "building tree 259 of 500\n",
      "building tree 260 of 500\n",
      "building tree 261 of 500\n",
      "building tree 262 of 500\n",
      "building tree 263 of 500\n",
      "building tree 264 of 500\n",
      "building tree 265 of 500\n",
      "building tree 266 of 500\n",
      "building tree 267 of 500\n",
      "building tree 268 of 500\n",
      "building tree 269 of 500\n",
      "building tree 270 of 500\n",
      "building tree 271 of 500\n",
      "building tree 272 of 500\n",
      "building tree 273 of 500\n",
      "building tree 274 of 500\n",
      "building tree 275 of 500\n",
      "building tree 276 of 500\n",
      "building tree 277 of 500\n",
      "building tree 278 of 500\n",
      "building tree 279 of 500\n",
      "building tree 280 of 500\n",
      "building tree 281 of 500\n",
      "building tree 282 of 500\n",
      "building tree 283 of 500\n",
      "building tree 284 of 500\n",
      "building tree 285 of 500\n",
      "building tree 286 of 500\n",
      "building tree 287 of 500\n",
      "building tree 288 of 500\n",
      "building tree 289 of 500\n",
      "building tree 290 of 500\n",
      "building tree 291 of 500\n",
      "building tree 292 of 500\n",
      "building tree 293 of 500\n",
      "building tree 294 of 500\n",
      "building tree 295 of 500\n",
      "building tree 296 of 500\n",
      "building tree 297 of 500\n",
      "building tree 298 of 500\n",
      "building tree 299 of 500\n",
      "building tree 300 of 500\n",
      "building tree 301 of 500\n",
      "building tree 302 of 500\n",
      "building tree 303 of 500\n",
      "building tree 304 of 500\n",
      "building tree 305 of 500\n",
      "building tree 306 of 500\n",
      "building tree 307 of 500\n",
      "building tree 308 of 500\n",
      "building tree 309 of 500\n",
      "building tree 310 of 500\n",
      "building tree 311 of 500\n",
      "building tree 312 of 500\n",
      "building tree 313 of 500\n",
      "building tree 314 of 500\n",
      "building tree 315 of 500\n",
      "building tree 316 of 500\n",
      "building tree 317 of 500\n",
      "building tree 318 of 500\n",
      "building tree 319 of 500\n",
      "building tree 320 of 500\n",
      "building tree 321 of 500\n",
      "building tree 322 of 500\n",
      "building tree 323 of 500\n",
      "building tree 324 of 500\n",
      "building tree 325 of 500\n",
      "building tree 326 of 500\n",
      "building tree 327 of 500\n",
      "building tree 328 of 500\n",
      "building tree 329 of 500\n",
      "building tree 330 of 500\n",
      "building tree 331 of 500\n",
      "building tree 332 of 500\n",
      "building tree 333 of 500\n",
      "building tree 334 of 500\n",
      "building tree 335 of 500\n",
      "building tree 336 of 500\n",
      "building tree 337 of 500\n",
      "building tree 338 of 500\n",
      "building tree 339 of 500\n",
      "building tree 340 of 500\n",
      "building tree 341 of 500\n",
      "building tree 342 of 500\n",
      "building tree 343 of 500\n",
      "building tree 344 of 500\n",
      "building tree 345 of 500\n",
      "building tree 346 of 500\n",
      "building tree 347 of 500\n",
      "building tree 348 of 500\n",
      "building tree 349 of 500\n",
      "building tree 350 of 500\n",
      "building tree 351 of 500\n",
      "building tree 352 of 500\n",
      "building tree 353 of 500\n",
      "building tree 354 of 500\n",
      "building tree 355 of 500\n",
      "building tree 356 of 500\n",
      "building tree 357 of 500\n",
      "building tree 358 of 500\n",
      "building tree 359 of 500\n",
      "building tree 360 of 500\n",
      "building tree 361 of 500\n",
      "building tree 362 of 500\n",
      "building tree 363 of 500\n",
      "building tree 364 of 500\n",
      "building tree 365 of 500\n",
      "building tree 366 of 500\n",
      "building tree 367 of 500\n",
      "building tree 368 of 500\n",
      "building tree 369 of 500\n",
      "building tree 370 of 500\n",
      "building tree 371 of 500\n",
      "building tree 372 of 500\n",
      "building tree 373 of 500\n",
      "building tree 374 of 500\n",
      "building tree 375 of 500\n",
      "building tree 376 of 500\n",
      "building tree 377 of 500\n",
      "building tree 378 of 500\n",
      "building tree 379 of 500\n",
      "building tree 380 of 500\n",
      "building tree 381 of 500\n",
      "building tree 382 of 500\n",
      "building tree 383 of 500\n",
      "building tree 384 of 500\n",
      "building tree 385 of 500\n",
      "building tree 386 of 500\n",
      "building tree 387 of 500\n",
      "building tree 388 of 500\n",
      "building tree 389 of 500\n"
     ]
    },
    {
     "name": "stderr",
     "output_type": "stream",
     "text": [
      "[Parallel(n_jobs=1)]: Done 364 tasks      | elapsed:    1.8s\n"
     ]
    },
    {
     "name": "stdout",
     "output_type": "stream",
     "text": [
      "building tree 390 of 500\n",
      "building tree 391 of 500\n",
      "building tree 392 of 500\n",
      "building tree 393 of 500\n",
      "building tree 394 of 500\n",
      "building tree 395 of 500\n",
      "building tree 396 of 500\n",
      "building tree 397 of 500\n",
      "building tree 398 of 500\n",
      "building tree 399 of 500\n",
      "building tree 400 of 500\n",
      "building tree 401 of 500\n",
      "building tree 402 of 500\n",
      "building tree 403 of 500\n",
      "building tree 404 of 500\n",
      "building tree 405 of 500\n",
      "building tree 406 of 500\n",
      "building tree 407 of 500\n",
      "building tree 408 of 500\n",
      "building tree 409 of 500\n",
      "building tree 410 of 500\n",
      "building tree 411 of 500\n",
      "building tree 412 of 500\n",
      "building tree 413 of 500\n",
      "building tree 414 of 500\n",
      "building tree 415 of 500\n",
      "building tree 416 of 500\n",
      "building tree 417 of 500\n",
      "building tree 418 of 500\n",
      "building tree 419 of 500\n",
      "building tree 420 of 500\n",
      "building tree 421 of 500\n",
      "building tree 422 of 500\n",
      "building tree 423 of 500\n",
      "building tree 424 of 500\n",
      "building tree 425 of 500\n",
      "building tree 426 of 500\n",
      "building tree 427 of 500\n",
      "building tree 428 of 500\n",
      "building tree 429 of 500\n",
      "building tree 430 of 500\n",
      "building tree 431 of 500\n",
      "building tree 432 of 500\n",
      "building tree 433 of 500\n",
      "building tree 434 of 500\n",
      "building tree 435 of 500\n",
      "building tree 436 of 500\n",
      "building tree 437 of 500\n",
      "building tree 438 of 500\n",
      "building tree 439 of 500\n",
      "building tree 440 of 500\n",
      "building tree 441 of 500\n",
      "building tree 442 of 500\n",
      "building tree 443 of 500\n",
      "building tree 444 of 500\n",
      "building tree 445 of 500\n",
      "building tree 446 of 500\n",
      "building tree 447 of 500\n",
      "building tree 448 of 500\n",
      "building tree 449 of 500\n",
      "building tree 450 of 500\n",
      "building tree 451 of 500\n",
      "building tree 452 of 500\n",
      "building tree 453 of 500\n",
      "building tree 454 of 500\n",
      "building tree 455 of 500\n",
      "building tree 456 of 500\n",
      "building tree 457 of 500\n",
      "building tree 458 of 500\n",
      "building tree 459 of 500\n",
      "building tree 460 of 500\n",
      "building tree 461 of 500\n",
      "building tree 462 of 500\n",
      "building tree 463 of 500\n",
      "building tree 464 of 500\n",
      "building tree 465 of 500\n",
      "building tree 466 of 500\n",
      "building tree 467 of 500\n",
      "building tree 468 of 500\n",
      "building tree 469 of 500\n",
      "building tree 470 of 500\n",
      "building tree 471 of 500\n",
      "building tree 472 of 500\n",
      "building tree 473 of 500\n",
      "building tree 474 of 500\n",
      "building tree 475 of 500\n",
      "building tree 476 of 500\n",
      "building tree 477 of 500\n",
      "building tree 478 of 500\n",
      "building tree 479 of 500\n",
      "building tree 480 of 500\n",
      "building tree 481 of 500\n",
      "building tree 482 of 500\n",
      "building tree 483 of 500\n",
      "building tree 484 of 500\n",
      "building tree 485 of 500\n",
      "building tree 486 of 500\n",
      "building tree 487 of 500\n",
      "building tree 488 of 500\n",
      "building tree 489 of 500\n",
      "building tree 490 of 500\n",
      "building tree 491 of 500\n",
      "building tree 492 of 500\n",
      "building tree 493 of 500\n",
      "building tree 494 of 500\n",
      "building tree 495 of 500\n",
      "building tree 496 of 500\n",
      "building tree 497 of 500\n",
      "building tree 498 of 500\n",
      "building tree 499 of 500\n",
      "building tree 500 of 500\n"
     ]
    },
    {
     "data": {
      "text/html": [
       "<style>#sk-container-id-2 {color: black;background-color: white;}#sk-container-id-2 pre{padding: 0;}#sk-container-id-2 div.sk-toggleable {background-color: white;}#sk-container-id-2 label.sk-toggleable__label {cursor: pointer;display: block;width: 100%;margin-bottom: 0;padding: 0.3em;box-sizing: border-box;text-align: center;}#sk-container-id-2 label.sk-toggleable__label-arrow:before {content: \"▸\";float: left;margin-right: 0.25em;color: #696969;}#sk-container-id-2 label.sk-toggleable__label-arrow:hover:before {color: black;}#sk-container-id-2 div.sk-estimator:hover label.sk-toggleable__label-arrow:before {color: black;}#sk-container-id-2 div.sk-toggleable__content {max-height: 0;max-width: 0;overflow: hidden;text-align: left;background-color: #f0f8ff;}#sk-container-id-2 div.sk-toggleable__content pre {margin: 0.2em;color: black;border-radius: 0.25em;background-color: #f0f8ff;}#sk-container-id-2 input.sk-toggleable__control:checked~div.sk-toggleable__content {max-height: 200px;max-width: 100%;overflow: auto;}#sk-container-id-2 input.sk-toggleable__control:checked~label.sk-toggleable__label-arrow:before {content: \"▾\";}#sk-container-id-2 div.sk-estimator input.sk-toggleable__control:checked~label.sk-toggleable__label {background-color: #d4ebff;}#sk-container-id-2 div.sk-label input.sk-toggleable__control:checked~label.sk-toggleable__label {background-color: #d4ebff;}#sk-container-id-2 input.sk-hidden--visually {border: 0;clip: rect(1px 1px 1px 1px);clip: rect(1px, 1px, 1px, 1px);height: 1px;margin: -1px;overflow: hidden;padding: 0;position: absolute;width: 1px;}#sk-container-id-2 div.sk-estimator {font-family: monospace;background-color: #f0f8ff;border: 1px dotted black;border-radius: 0.25em;box-sizing: border-box;margin-bottom: 0.5em;}#sk-container-id-2 div.sk-estimator:hover {background-color: #d4ebff;}#sk-container-id-2 div.sk-parallel-item::after {content: \"\";width: 100%;border-bottom: 1px solid gray;flex-grow: 1;}#sk-container-id-2 div.sk-label:hover label.sk-toggleable__label {background-color: #d4ebff;}#sk-container-id-2 div.sk-serial::before {content: \"\";position: absolute;border-left: 1px solid gray;box-sizing: border-box;top: 0;bottom: 0;left: 50%;z-index: 0;}#sk-container-id-2 div.sk-serial {display: flex;flex-direction: column;align-items: center;background-color: white;padding-right: 0.2em;padding-left: 0.2em;position: relative;}#sk-container-id-2 div.sk-item {position: relative;z-index: 1;}#sk-container-id-2 div.sk-parallel {display: flex;align-items: stretch;justify-content: center;background-color: white;position: relative;}#sk-container-id-2 div.sk-item::before, #sk-container-id-2 div.sk-parallel-item::before {content: \"\";position: absolute;border-left: 1px solid gray;box-sizing: border-box;top: 0;bottom: 0;left: 50%;z-index: -1;}#sk-container-id-2 div.sk-parallel-item {display: flex;flex-direction: column;z-index: 1;position: relative;background-color: white;}#sk-container-id-2 div.sk-parallel-item:first-child::after {align-self: flex-end;width: 50%;}#sk-container-id-2 div.sk-parallel-item:last-child::after {align-self: flex-start;width: 50%;}#sk-container-id-2 div.sk-parallel-item:only-child::after {width: 0;}#sk-container-id-2 div.sk-dashed-wrapped {border: 1px dashed gray;margin: 0 0.4em 0.5em 0.4em;box-sizing: border-box;padding-bottom: 0.4em;background-color: white;}#sk-container-id-2 div.sk-label label {font-family: monospace;font-weight: bold;display: inline-block;line-height: 1.2em;}#sk-container-id-2 div.sk-label-container {text-align: center;}#sk-container-id-2 div.sk-container {/* jupyter's `normalize.less` sets `[hidden] { display: none; }` but bootstrap.min.css set `[hidden] { display: none !important; }` so we also need the `!important` here to be able to override the default hidden behavior on the sphinx rendered scikit-learn.org. See: https://github.com/scikit-learn/scikit-learn/issues/21755 */display: inline-block !important;position: relative;}#sk-container-id-2 div.sk-text-repr-fallback {display: none;}</style><div id=\"sk-container-id-2\" class=\"sk-top-container\"><div class=\"sk-text-repr-fallback\"><pre>RandomForestRegressor(max_features=5, min_samples_leaf=5, n_estimators=500,\n",
       "                      random_state=88, verbose=2)</pre><b>In a Jupyter environment, please rerun this cell to show the HTML representation or trust the notebook. <br />On GitHub, the HTML representation is unable to render, please try loading this page with nbviewer.org.</b></div><div class=\"sk-container\" hidden><div class=\"sk-item\"><div class=\"sk-estimator sk-toggleable\"><input class=\"sk-toggleable__control sk-hidden--visually\" id=\"sk-estimator-id-4\" type=\"checkbox\" checked><label for=\"sk-estimator-id-4\" class=\"sk-toggleable__label sk-toggleable__label-arrow\">RandomForestRegressor</label><div class=\"sk-toggleable__content\"><pre>RandomForestRegressor(max_features=5, min_samples_leaf=5, n_estimators=500,\n",
       "                      random_state=88, verbose=2)</pre></div></div></div></div></div>"
      ],
      "text/plain": [
       "RandomForestRegressor(max_features=5, min_samples_leaf=5, n_estimators=500,\n",
       "                      random_state=88, verbose=2)"
      ]
     },
     "execution_count": 9,
     "metadata": {},
     "output_type": "execute_result"
    }
   ],
   "source": [
    "from sklearn.ensemble import RandomForestRegressor\n",
    "\n",
    "rf = RandomForestRegressor(max_features=5, min_samples_leaf=5,\n",
    "                           n_estimators = 500, random_state=88, verbose=2)\n",
    "# Note: you can change the verbose parameter to control how much training progress is printed.\n",
    "rf.fit(X_train, y_train)"
   ]
  },
  {
   "cell_type": "code",
   "execution_count": 10,
   "metadata": {
    "colab": {
     "base_uri": "https://localhost:8080/"
    },
    "executionInfo": {
     "elapsed": 211,
     "status": "ok",
     "timestamp": 1713509093351,
     "user": {
      "displayName": "Ying Chen",
      "userId": "14109808973627602191"
     },
     "user_tz": 420
    },
    "id": "XVRzQfYENWHR",
    "outputId": "d84019bc-db5f-47bf-fd0d-c00a27159c3b"
   },
   "outputs": [
    {
     "name": "stdout",
     "output_type": "stream",
     "text": [
      "OSR2: 0.56445\n"
     ]
    }
   ],
   "source": [
    "rf.verbose = False\n",
    "\n",
    "print('OSR2:', round(OSR2(rf, X_test, y_test, y_train), 5))"
   ]
  },
  {
   "cell_type": "markdown",
   "metadata": {
    "id": "yD-oGPI0NWHR"
   },
   "source": [
    "#### Feature Importance"
   ]
  },
  {
   "cell_type": "code",
   "execution_count": 11,
   "metadata": {
    "colab": {
     "base_uri": "https://localhost:8080/",
     "height": 613
    },
    "executionInfo": {
     "elapsed": 197,
     "status": "ok",
     "timestamp": 1713509095529,
     "user": {
      "displayName": "Ying Chen",
      "userId": "14109808973627602191"
     },
     "user_tz": 420
    },
    "id": "jKgkIVOONWHR",
    "outputId": "0413a141-f260-4a2d-e689-e667fcacbf14"
   },
   "outputs": [
    {
     "data": {
      "text/html": [
       "<div>\n",
       "<style scoped>\n",
       "    .dataframe tbody tr th:only-of-type {\n",
       "        vertical-align: middle;\n",
       "    }\n",
       "\n",
       "    .dataframe tbody tr th {\n",
       "        vertical-align: top;\n",
       "    }\n",
       "\n",
       "    .dataframe thead th {\n",
       "        text-align: right;\n",
       "    }\n",
       "</style>\n",
       "<table border=\"1\" class=\"dataframe\">\n",
       "  <thead>\n",
       "    <tr style=\"text-align: right;\">\n",
       "      <th></th>\n",
       "      <th>Feature</th>\n",
       "      <th>Importance score</th>\n",
       "    </tr>\n",
       "  </thead>\n",
       "  <tbody>\n",
       "    <tr>\n",
       "      <th>0</th>\n",
       "      <td>titleWords</td>\n",
       "      <td>3.7</td>\n",
       "    </tr>\n",
       "    <tr>\n",
       "      <th>1</th>\n",
       "      <td>adWords</td>\n",
       "      <td>3.4</td>\n",
       "    </tr>\n",
       "    <tr>\n",
       "      <th>2</th>\n",
       "      <td>depth</td>\n",
       "      <td>2.3</td>\n",
       "    </tr>\n",
       "    <tr>\n",
       "      <th>3</th>\n",
       "      <td>position</td>\n",
       "      <td>2.2</td>\n",
       "    </tr>\n",
       "    <tr>\n",
       "      <th>4</th>\n",
       "      <td>advCTR</td>\n",
       "      <td>23.6</td>\n",
       "    </tr>\n",
       "    <tr>\n",
       "      <th>5</th>\n",
       "      <td>advCTRInPos</td>\n",
       "      <td>32.6</td>\n",
       "    </tr>\n",
       "    <tr>\n",
       "      <th>6</th>\n",
       "      <td>queryCTR</td>\n",
       "      <td>10.0</td>\n",
       "    </tr>\n",
       "    <tr>\n",
       "      <th>7</th>\n",
       "      <td>queryCTRInPos</td>\n",
       "      <td>17.9</td>\n",
       "    </tr>\n",
       "    <tr>\n",
       "      <th>8</th>\n",
       "      <td>gender_female</td>\n",
       "      <td>0.8</td>\n",
       "    </tr>\n",
       "    <tr>\n",
       "      <th>9</th>\n",
       "      <td>gender_male</td>\n",
       "      <td>0.5</td>\n",
       "    </tr>\n",
       "    <tr>\n",
       "      <th>10</th>\n",
       "      <td>gender_unknown</td>\n",
       "      <td>0.8</td>\n",
       "    </tr>\n",
       "    <tr>\n",
       "      <th>11</th>\n",
       "      <td>age_0-12</td>\n",
       "      <td>0.0</td>\n",
       "    </tr>\n",
       "    <tr>\n",
       "      <th>12</th>\n",
       "      <td>age_13-18</td>\n",
       "      <td>0.3</td>\n",
       "    </tr>\n",
       "    <tr>\n",
       "      <th>13</th>\n",
       "      <td>age_19-24</td>\n",
       "      <td>0.5</td>\n",
       "    </tr>\n",
       "    <tr>\n",
       "      <th>14</th>\n",
       "      <td>age_25-30</td>\n",
       "      <td>0.3</td>\n",
       "    </tr>\n",
       "    <tr>\n",
       "      <th>15</th>\n",
       "      <td>age_31-40</td>\n",
       "      <td>0.2</td>\n",
       "    </tr>\n",
       "    <tr>\n",
       "      <th>16</th>\n",
       "      <td>age_41+</td>\n",
       "      <td>0.0</td>\n",
       "    </tr>\n",
       "    <tr>\n",
       "      <th>17</th>\n",
       "      <td>age_unknown</td>\n",
       "      <td>0.8</td>\n",
       "    </tr>\n",
       "  </tbody>\n",
       "</table>\n",
       "</div>"
      ],
      "text/plain": [
       "           Feature  Importance score\n",
       "0       titleWords               3.7\n",
       "1          adWords               3.4\n",
       "2            depth               2.3\n",
       "3         position               2.2\n",
       "4           advCTR              23.6\n",
       "5      advCTRInPos              32.6\n",
       "6         queryCTR              10.0\n",
       "7    queryCTRInPos              17.9\n",
       "8    gender_female               0.8\n",
       "9      gender_male               0.5\n",
       "10  gender_unknown               0.8\n",
       "11        age_0-12               0.0\n",
       "12       age_13-18               0.3\n",
       "13       age_19-24               0.5\n",
       "14       age_25-30               0.3\n",
       "15       age_31-40               0.2\n",
       "16         age_41+               0.0\n",
       "17     age_unknown               0.8"
      ]
     },
     "execution_count": 11,
     "metadata": {},
     "output_type": "execute_result"
    }
   ],
   "source": [
    "pd.DataFrame({'Feature' : X_train.columns,\n",
    "              'Importance score': 100*rf.feature_importances_}).round(1)"
   ]
  },
  {
   "cell_type": "markdown",
   "metadata": {
    "id": "5wf1XXLiNWHR"
   },
   "source": [
    "### 2.2 Random Forest Regressor with CV"
   ]
  },
  {
   "cell_type": "markdown",
   "metadata": {
    "id": "XakaAfc9NWHR"
   },
   "source": [
    "#### 2.2.1 Define the grid values and perform the Grid Search Cross-Validation"
   ]
  },
  {
   "cell_type": "code",
   "execution_count": 12,
   "metadata": {
    "colab": {
     "base_uri": "https://localhost:8080/"
    },
    "executionInfo": {
     "elapsed": 415453,
     "status": "ok",
     "timestamp": 1713480042358,
     "user": {
      "displayName": "Ying Chen",
      "userId": "14109808973627602191"
     },
     "user_tz": 420
    },
    "id": "GwImZYu7NWHR",
    "outputId": "cc9c6dae-c113-4e91-eb35-5f0c44e544cb"
   },
   "outputs": [
    {
     "name": "stdout",
     "output_type": "stream",
     "text": [
      "Fitting 5 folds for each of 18 candidates, totalling 90 fits\n",
      "[CV] END max_features=1, min_samples_leaf=5, n_estimators=500, random_state=88; total time=   1.2s\n",
      "[CV] END max_features=1, min_samples_leaf=5, n_estimators=500, random_state=88; total time=   1.2s\n",
      "[CV] END max_features=1, min_samples_leaf=5, n_estimators=500, random_state=88; total time=   1.1s\n",
      "[CV] END max_features=1, min_samples_leaf=5, n_estimators=500, random_state=88; total time=   1.2s\n",
      "[CV] END max_features=1, min_samples_leaf=5, n_estimators=500, random_state=88; total time=   1.2s\n",
      "[CV] END max_features=2, min_samples_leaf=5, n_estimators=500, random_state=88; total time=   1.3s\n",
      "[CV] END max_features=2, min_samples_leaf=5, n_estimators=500, random_state=88; total time=   1.3s\n",
      "[CV] END max_features=2, min_samples_leaf=5, n_estimators=500, random_state=88; total time=   1.4s\n",
      "[CV] END max_features=2, min_samples_leaf=5, n_estimators=500, random_state=88; total time=   1.3s\n",
      "[CV] END max_features=2, min_samples_leaf=5, n_estimators=500, random_state=88; total time=   1.4s\n",
      "[CV] END max_features=3, min_samples_leaf=5, n_estimators=500, random_state=88; total time=   1.6s\n",
      "[CV] END max_features=3, min_samples_leaf=5, n_estimators=500, random_state=88; total time=   1.7s\n",
      "[CV] END max_features=3, min_samples_leaf=5, n_estimators=500, random_state=88; total time=   1.9s\n",
      "[CV] END max_features=3, min_samples_leaf=5, n_estimators=500, random_state=88; total time=   1.7s\n",
      "[CV] END max_features=3, min_samples_leaf=5, n_estimators=500, random_state=88; total time=   1.9s\n",
      "[CV] END max_features=4, min_samples_leaf=5, n_estimators=500, random_state=88; total time=   2.3s\n",
      "[CV] END max_features=4, min_samples_leaf=5, n_estimators=500, random_state=88; total time=   2.5s\n",
      "[CV] END max_features=4, min_samples_leaf=5, n_estimators=500, random_state=88; total time=   2.3s\n",
      "[CV] END max_features=4, min_samples_leaf=5, n_estimators=500, random_state=88; total time=   2.4s\n",
      "[CV] END max_features=4, min_samples_leaf=5, n_estimators=500, random_state=88; total time=   1.9s\n",
      "[CV] END max_features=5, min_samples_leaf=5, n_estimators=500, random_state=88; total time=   2.2s\n",
      "[CV] END max_features=5, min_samples_leaf=5, n_estimators=500, random_state=88; total time=   2.4s\n",
      "[CV] END max_features=5, min_samples_leaf=5, n_estimators=500, random_state=88; total time=   2.4s\n",
      "[CV] END max_features=5, min_samples_leaf=5, n_estimators=500, random_state=88; total time=   2.6s\n",
      "[CV] END max_features=5, min_samples_leaf=5, n_estimators=500, random_state=88; total time=   2.7s\n",
      "[CV] END max_features=6, min_samples_leaf=5, n_estimators=500, random_state=88; total time=   3.1s\n",
      "[CV] END max_features=6, min_samples_leaf=5, n_estimators=500, random_state=88; total time=   2.9s\n",
      "[CV] END max_features=6, min_samples_leaf=5, n_estimators=500, random_state=88; total time=   2.8s\n",
      "[CV] END max_features=6, min_samples_leaf=5, n_estimators=500, random_state=88; total time=   2.8s\n",
      "[CV] END max_features=6, min_samples_leaf=5, n_estimators=500, random_state=88; total time=   2.4s\n",
      "[CV] END max_features=7, min_samples_leaf=5, n_estimators=500, random_state=88; total time=   2.9s\n",
      "[CV] END max_features=7, min_samples_leaf=5, n_estimators=500, random_state=88; total time=   3.1s\n",
      "[CV] END max_features=7, min_samples_leaf=5, n_estimators=500, random_state=88; total time=   2.8s\n",
      "[CV] END max_features=7, min_samples_leaf=5, n_estimators=500, random_state=88; total time=   2.7s\n",
      "[CV] END max_features=7, min_samples_leaf=5, n_estimators=500, random_state=88; total time=   3.0s\n",
      "[CV] END max_features=8, min_samples_leaf=5, n_estimators=500, random_state=88; total time=   2.9s\n",
      "[CV] END max_features=8, min_samples_leaf=5, n_estimators=500, random_state=88; total time=   2.9s\n",
      "[CV] END max_features=8, min_samples_leaf=5, n_estimators=500, random_state=88; total time=   2.9s\n",
      "[CV] END max_features=8, min_samples_leaf=5, n_estimators=500, random_state=88; total time=   2.9s\n",
      "[CV] END max_features=8, min_samples_leaf=5, n_estimators=500, random_state=88; total time=   2.9s\n",
      "[CV] END max_features=9, min_samples_leaf=5, n_estimators=500, random_state=88; total time=   3.5s\n",
      "[CV] END max_features=9, min_samples_leaf=5, n_estimators=500, random_state=88; total time=   3.3s\n",
      "[CV] END max_features=9, min_samples_leaf=5, n_estimators=500, random_state=88; total time=   3.3s\n",
      "[CV] END max_features=9, min_samples_leaf=5, n_estimators=500, random_state=88; total time=   3.3s\n",
      "[CV] END max_features=9, min_samples_leaf=5, n_estimators=500, random_state=88; total time=   3.6s\n",
      "[CV] END max_features=10, min_samples_leaf=5, n_estimators=500, random_state=88; total time=   4.1s\n",
      "[CV] END max_features=10, min_samples_leaf=5, n_estimators=500, random_state=88; total time=   3.5s\n",
      "[CV] END max_features=10, min_samples_leaf=5, n_estimators=500, random_state=88; total time=   3.7s\n",
      "[CV] END max_features=10, min_samples_leaf=5, n_estimators=500, random_state=88; total time=   3.4s\n",
      "[CV] END max_features=10, min_samples_leaf=5, n_estimators=500, random_state=88; total time=   3.5s\n",
      "[CV] END max_features=11, min_samples_leaf=5, n_estimators=500, random_state=88; total time=   3.7s\n",
      "[CV] END max_features=11, min_samples_leaf=5, n_estimators=500, random_state=88; total time=   3.8s\n",
      "[CV] END max_features=11, min_samples_leaf=5, n_estimators=500, random_state=88; total time=   4.0s\n",
      "[CV] END max_features=11, min_samples_leaf=5, n_estimators=500, random_state=88; total time=   3.7s\n",
      "[CV] END max_features=11, min_samples_leaf=5, n_estimators=500, random_state=88; total time=   4.4s\n",
      "[CV] END max_features=12, min_samples_leaf=5, n_estimators=500, random_state=88; total time=   4.2s\n",
      "[CV] END max_features=12, min_samples_leaf=5, n_estimators=500, random_state=88; total time=   4.1s\n",
      "[CV] END max_features=12, min_samples_leaf=5, n_estimators=500, random_state=88; total time=   4.5s\n",
      "[CV] END max_features=12, min_samples_leaf=5, n_estimators=500, random_state=88; total time=   4.1s\n",
      "[CV] END max_features=12, min_samples_leaf=5, n_estimators=500, random_state=88; total time=   4.1s\n",
      "[CV] END max_features=13, min_samples_leaf=5, n_estimators=500, random_state=88; total time=   4.7s\n",
      "[CV] END max_features=13, min_samples_leaf=5, n_estimators=500, random_state=88; total time=   4.9s\n",
      "[CV] END max_features=13, min_samples_leaf=5, n_estimators=500, random_state=88; total time=   4.6s\n",
      "[CV] END max_features=13, min_samples_leaf=5, n_estimators=500, random_state=88; total time=   4.3s\n",
      "[CV] END max_features=13, min_samples_leaf=5, n_estimators=500, random_state=88; total time=   4.5s\n",
      "[CV] END max_features=14, min_samples_leaf=5, n_estimators=500, random_state=88; total time=   4.5s\n",
      "[CV] END max_features=14, min_samples_leaf=5, n_estimators=500, random_state=88; total time=   4.7s\n",
      "[CV] END max_features=14, min_samples_leaf=5, n_estimators=500, random_state=88; total time=   5.0s\n",
      "[CV] END max_features=14, min_samples_leaf=5, n_estimators=500, random_state=88; total time=   4.4s\n",
      "[CV] END max_features=14, min_samples_leaf=5, n_estimators=500, random_state=88; total time=   5.0s\n",
      "[CV] END max_features=15, min_samples_leaf=5, n_estimators=500, random_state=88; total time=   5.1s\n",
      "[CV] END max_features=15, min_samples_leaf=5, n_estimators=500, random_state=88; total time=   5.1s\n",
      "[CV] END max_features=15, min_samples_leaf=5, n_estimators=500, random_state=88; total time=   5.0s\n",
      "[CV] END max_features=15, min_samples_leaf=5, n_estimators=500, random_state=88; total time=   4.7s\n",
      "[CV] END max_features=15, min_samples_leaf=5, n_estimators=500, random_state=88; total time=   4.7s\n",
      "[CV] END max_features=16, min_samples_leaf=5, n_estimators=500, random_state=88; total time=   5.3s\n",
      "[CV] END max_features=16, min_samples_leaf=5, n_estimators=500, random_state=88; total time=   4.9s\n",
      "[CV] END max_features=16, min_samples_leaf=5, n_estimators=500, random_state=88; total time=   5.1s\n",
      "[CV] END max_features=16, min_samples_leaf=5, n_estimators=500, random_state=88; total time=   5.1s\n",
      "[CV] END max_features=16, min_samples_leaf=5, n_estimators=500, random_state=88; total time=   5.1s\n",
      "[CV] END max_features=17, min_samples_leaf=5, n_estimators=500, random_state=88; total time=   5.4s\n",
      "[CV] END max_features=17, min_samples_leaf=5, n_estimators=500, random_state=88; total time=   5.4s\n",
      "[CV] END max_features=17, min_samples_leaf=5, n_estimators=500, random_state=88; total time=   5.2s\n",
      "[CV] END max_features=17, min_samples_leaf=5, n_estimators=500, random_state=88; total time=   5.1s\n",
      "[CV] END max_features=17, min_samples_leaf=5, n_estimators=500, random_state=88; total time=   5.4s\n",
      "[CV] END max_features=18, min_samples_leaf=5, n_estimators=500, random_state=88; total time=   5.3s\n",
      "[CV] END max_features=18, min_samples_leaf=5, n_estimators=500, random_state=88; total time=   5.6s\n",
      "[CV] END max_features=18, min_samples_leaf=5, n_estimators=500, random_state=88; total time=   5.4s\n",
      "[CV] END max_features=18, min_samples_leaf=5, n_estimators=500, random_state=88; total time=   5.8s\n",
      "[CV] END max_features=18, min_samples_leaf=5, n_estimators=500, random_state=88; total time=   5.6s\n",
      "time: 319.63 s\n"
     ]
    }
   ],
   "source": [
    "## using GridSearchCV to find best max_features:\n",
    "\n",
    "import time\n",
    "\n",
    "grid_values = {'max_features': np.linspace(1,18,18, dtype='int32'),\n",
    "               'min_samples_leaf': [5],\n",
    "               'n_estimators': [500],\n",
    "               'random_state': [88]}\n",
    "\n",
    "tic = time.time()\n",
    "\n",
    "rf2 = RandomForestRegressor()\n",
    "# Note: here we set verbose=2 to keep track of the progress (the running time) of the cross validation.\n",
    "cv = KFold(n_splits=5,random_state=333,shuffle=True)\n",
    "rf_cv = GridSearchCV(rf2, param_grid=grid_values, scoring='r2', cv=cv,verbose=2)\n",
    "rf_cv.fit(X_train, y_train)\n",
    "\n",
    "toc = time.time()\n",
    "\n",
    "print('time:', round(toc-tic, 2),'s')"
   ]
  },
  {
   "cell_type": "markdown",
   "metadata": {
    "id": "5RL4GPblNWHS"
   },
   "source": [
    "####  2.2.2 Select the best hyperparameter"
   ]
  },
  {
   "cell_type": "code",
   "execution_count": 13,
   "metadata": {
    "colab": {
     "base_uri": "https://localhost:8080/",
     "height": 570
    },
    "executionInfo": {
     "elapsed": 475,
     "status": "ok",
     "timestamp": 1713480053403,
     "user": {
      "displayName": "Ying Chen",
      "userId": "14109808973627602191"
     },
     "user_tz": 420
    },
    "id": "8367XTvTNWHS",
    "outputId": "3e557d38-e840-4181-86ef-96136b9c897b"
   },
   "outputs": [
    {
     "data": {
      "text/plain": [
       "(0.3, 0.6)"
      ]
     },
     "execution_count": 13,
     "metadata": {},
     "output_type": "execute_result"
    },
    {
     "data": {
      "image/png": "[encoded data removed]",
      "text/plain": [
       "<Figure size 800x600 with 1 Axes>"
      ]
     },
     "metadata": {},
     "output_type": "display_data"
    }
   ],
   "source": [
    "max_features = rf_cv.cv_results_['param_max_features'].data\n",
    "R2_scores = rf_cv.cv_results_['mean_test_score']\n",
    "\n",
    "plt.figure(figsize=(8, 6))\n",
    "plt.xlabel('max features', fontsize=16)\n",
    "plt.ylabel('CV R2', fontsize=16)\n",
    "plt.scatter(max_features, R2_scores, s=30)\n",
    "plt.plot(max_features, R2_scores, linewidth=3)\n",
    "plt.grid(True, which='both')\n",
    "plt.xlim([1, 19])\n",
    "plt.ylim([0.3, 0.6])"
   ]
  },
  {
   "cell_type": "code",
   "execution_count": 14,
   "metadata": {
    "colab": {
     "base_uri": "https://localhost:8080/"
    },
    "executionInfo": {
     "elapsed": 204,
     "status": "ok",
     "timestamp": 1713480055889,
     "user": {
      "displayName": "Ying Chen",
      "userId": "14109808973627602191"
     },
     "user_tz": 420
    },
    "id": "EGBdwzpENWHS",
    "outputId": "bbfa6aec-8880-4570-e327-8310cc926c1b",
    "scrolled": true
   },
   "outputs": [
    {
     "name": "stdout",
     "output_type": "stream",
     "text": [
      "{'max_features': 11, 'min_samples_leaf': 5, 'n_estimators': 500, 'random_state': 88}\n"
     ]
    }
   ],
   "source": [
    "print(rf_cv.best_params_)"
   ]
  },
  {
   "cell_type": "markdown",
   "metadata": {
    "id": "SPzHi-C1NWHS"
   },
   "source": [
    "#### 2.2.3 Evaluate the model performance (trained on the entire training set)"
   ]
  },
  {
   "cell_type": "code",
   "execution_count": 15,
   "metadata": {
    "colab": {
     "base_uri": "https://localhost:8080/"
    },
    "executionInfo": {
     "elapsed": 423,
     "status": "ok",
     "timestamp": 1713480057407,
     "user": {
      "displayName": "Ying Chen",
      "userId": "14109808973627602191"
     },
     "user_tz": 420
    },
    "id": "KE-ww8FcNWHS",
    "outputId": "3a18c0ed-9ebd-43a7-b3da-abaef35399bf"
   },
   "outputs": [
    {
     "name": "stdout",
     "output_type": "stream",
     "text": [
      "Cross-validated R2: 0.52789\n",
      "OSR2: 0.56412\n"
     ]
    }
   ],
   "source": [
    "print('Cross-validated R2:', round(rf_cv.best_score_, 5))\n",
    "print('OSR2:', round(OSR2(rf_cv, X_test, y_test, y_train), 5))"
   ]
  },
  {
   "cell_type": "markdown",
   "metadata": {
    "id": "gud9szoPNWHS"
   },
   "source": [
    "#### 2.2.4 Feature Importance\n",
    "\n",
    "Feature importances are provided by the fitted attribute `feature_importances_` and they are computed as the mean of accumulation of the impurity decrease within each tree."
   ]
  },
  {
   "cell_type": "code",
   "execution_count": 16,
   "metadata": {
    "colab": {
     "base_uri": "https://localhost:8080/",
     "height": 614
    },
    "executionInfo": {
     "elapsed": 181,
     "status": "ok",
     "timestamp": 1713480060761,
     "user": {
      "displayName": "Ying Chen",
      "userId": "14109808973627602191"
     },
     "user_tz": 420
    },
    "id": "HV9iCN6CNWHS",
    "outputId": "2241832e-3271-45de-a413-b4881ffac5c8"
   },
   "outputs": [
    {
     "data": {
      "text/html": [
       "<div>\n",
       "<style scoped>\n",
       "    .dataframe tbody tr th:only-of-type {\n",
       "        vertical-align: middle;\n",
       "    }\n",
       "\n",
       "    .dataframe tbody tr th {\n",
       "        vertical-align: top;\n",
       "    }\n",
       "\n",
       "    .dataframe thead th {\n",
       "        text-align: right;\n",
       "    }\n",
       "</style>\n",
       "<table border=\"1\" class=\"dataframe\">\n",
       "  <thead>\n",
       "    <tr style=\"text-align: right;\">\n",
       "      <th></th>\n",
       "      <th>Feature</th>\n",
       "      <th>Importance score</th>\n",
       "    </tr>\n",
       "  </thead>\n",
       "  <tbody>\n",
       "    <tr>\n",
       "      <th>0</th>\n",
       "      <td>titleWords</td>\n",
       "      <td>3.6</td>\n",
       "    </tr>\n",
       "    <tr>\n",
       "      <th>1</th>\n",
       "      <td>adWords</td>\n",
       "      <td>3.1</td>\n",
       "    </tr>\n",
       "    <tr>\n",
       "      <th>2</th>\n",
       "      <td>depth</td>\n",
       "      <td>1.7</td>\n",
       "    </tr>\n",
       "    <tr>\n",
       "      <th>3</th>\n",
       "      <td>position</td>\n",
       "      <td>0.8</td>\n",
       "    </tr>\n",
       "    <tr>\n",
       "      <th>4</th>\n",
       "      <td>advCTR</td>\n",
       "      <td>20.3</td>\n",
       "    </tr>\n",
       "    <tr>\n",
       "      <th>5</th>\n",
       "      <td>advCTRInPos</td>\n",
       "      <td>39.1</td>\n",
       "    </tr>\n",
       "    <tr>\n",
       "      <th>6</th>\n",
       "      <td>queryCTR</td>\n",
       "      <td>8.5</td>\n",
       "    </tr>\n",
       "    <tr>\n",
       "      <th>7</th>\n",
       "      <td>queryCTRInPos</td>\n",
       "      <td>19.8</td>\n",
       "    </tr>\n",
       "    <tr>\n",
       "      <th>8</th>\n",
       "      <td>gender_female</td>\n",
       "      <td>0.6</td>\n",
       "    </tr>\n",
       "    <tr>\n",
       "      <th>9</th>\n",
       "      <td>gender_male</td>\n",
       "      <td>0.4</td>\n",
       "    </tr>\n",
       "    <tr>\n",
       "      <th>10</th>\n",
       "      <td>gender_unknown</td>\n",
       "      <td>0.5</td>\n",
       "    </tr>\n",
       "    <tr>\n",
       "      <th>11</th>\n",
       "      <td>age_0-12</td>\n",
       "      <td>0.0</td>\n",
       "    </tr>\n",
       "    <tr>\n",
       "      <th>12</th>\n",
       "      <td>age_13-18</td>\n",
       "      <td>0.2</td>\n",
       "    </tr>\n",
       "    <tr>\n",
       "      <th>13</th>\n",
       "      <td>age_19-24</td>\n",
       "      <td>0.4</td>\n",
       "    </tr>\n",
       "    <tr>\n",
       "      <th>14</th>\n",
       "      <td>age_25-30</td>\n",
       "      <td>0.2</td>\n",
       "    </tr>\n",
       "    <tr>\n",
       "      <th>15</th>\n",
       "      <td>age_31-40</td>\n",
       "      <td>0.1</td>\n",
       "    </tr>\n",
       "    <tr>\n",
       "      <th>16</th>\n",
       "      <td>age_41+</td>\n",
       "      <td>0.0</td>\n",
       "    </tr>\n",
       "    <tr>\n",
       "      <th>17</th>\n",
       "      <td>age_unknown</td>\n",
       "      <td>0.6</td>\n",
       "    </tr>\n",
       "  </tbody>\n",
       "</table>\n",
       "</div>"
      ],
      "text/plain": [
       "           Feature  Importance score\n",
       "0       titleWords               3.6\n",
       "1          adWords               3.1\n",
       "2            depth               1.7\n",
       "3         position               0.8\n",
       "4           advCTR              20.3\n",
       "5      advCTRInPos              39.1\n",
       "6         queryCTR               8.5\n",
       "7    queryCTRInPos              19.8\n",
       "8    gender_female               0.6\n",
       "9      gender_male               0.4\n",
       "10  gender_unknown               0.5\n",
       "11        age_0-12               0.0\n",
       "12       age_13-18               0.2\n",
       "13       age_19-24               0.4\n",
       "14       age_25-30               0.2\n",
       "15       age_31-40               0.1\n",
       "16         age_41+               0.0\n",
       "17     age_unknown               0.6"
      ]
     },
     "execution_count": 16,
     "metadata": {},
     "output_type": "execute_result"
    }
   ],
   "source": [
    "pd.DataFrame({'Feature' : X_train.columns,\n",
    "              'Importance score': 100*rf_cv.best_estimator_.feature_importances_}).round(1)\n"
   ]
  },
  {
   "cell_type": "code",
   "execution_count": 17,
   "metadata": {
    "colab": {
     "base_uri": "https://localhost:8080/",
     "height": 599
    },
    "executionInfo": {
     "elapsed": 549,
     "status": "ok",
     "timestamp": 1713480063504,
     "user": {
      "displayName": "Ying Chen",
      "userId": "14109808973627602191"
     },
     "user_tz": 420
    },
    "id": "WdOGA9uMNWHT",
    "outputId": "0256bb04-9728-40b2-fb45-974fc6004cd6",
    "scrolled": true
   },
   "outputs": [
    {
     "data": {
      "image/png": "[encoded data removed]",
      "text/plain": [
       "<Figure size 800x700 with 1 Axes>"
      ]
     },
     "metadata": {},
     "output_type": "display_data"
    }
   ],
   "source": [
    "plt.figure(figsize=(8,7))\n",
    "plt.barh(X_train.columns, 100*rf_cv.best_estimator_.feature_importances_)\n",
    "plt.show()"
   ]
  },
  {
   "cell_type": "markdown",
   "metadata": {
    "id": "JkyRl6zWFxX3"
   },
   "source": [
    "Using `GridSearchCV` to find the best `n_estimators`. To simplify computation, you could search from 10 to 1000 with any stepsize.\n",
    "\n",
    "How the validation $R^2$ changes with n_estimators?"
   ]
  },
  {
   "cell_type": "code",
   "execution_count": 20,
   "metadata": {
    "id": "fbOwRKVFLCuV"
   },
   "outputs": [
    {
     "name": "stdout",
     "output_type": "stream",
     "text": [
      "Fitting 5 folds for each of 10 candidates, totalling 50 fits\n",
      "[CV] END max_features=11, min_samples_leaf=5, n_estimators=10, random_state=88; total time=   0.1s\n",
      "[CV] END max_features=11, min_samples_leaf=5, n_estimators=10, random_state=88; total time=   0.1s\n",
      "[CV] END max_features=11, min_samples_leaf=5, n_estimators=10, random_state=88; total time=   0.1s\n",
      "[CV] END max_features=11, min_samples_leaf=5, n_estimators=10, random_state=88; total time=   0.1s\n",
      "[CV] END max_features=11, min_samples_leaf=5, n_estimators=10, random_state=88; total time=   0.1s\n",
      "[CV] END max_features=11, min_samples_leaf=5, n_estimators=17, random_state=88; total time=   0.1s\n",
      "[CV] END max_features=11, min_samples_leaf=5, n_estimators=17, random_state=88; total time=   0.1s\n",
      "[CV] END max_features=11, min_samples_leaf=5, n_estimators=17, random_state=88; total time=   0.1s\n",
      "[CV] END max_features=11, min_samples_leaf=5, n_estimators=17, random_state=88; total time=   0.2s\n",
      "[CV] END max_features=11, min_samples_leaf=5, n_estimators=17, random_state=88; total time=   0.1s\n",
      "[CV] END max_features=11, min_samples_leaf=5, n_estimators=28, random_state=88; total time=   0.2s\n",
      "[CV] END max_features=11, min_samples_leaf=5, n_estimators=28, random_state=88; total time=   0.2s\n",
      "[CV] END max_features=11, min_samples_leaf=5, n_estimators=28, random_state=88; total time=   0.2s\n",
      "[CV] END max_features=11, min_samples_leaf=5, n_estimators=28, random_state=88; total time=   0.2s\n",
      "[CV] END max_features=11, min_samples_leaf=5, n_estimators=28, random_state=88; total time=   0.2s\n",
      "[CV] END max_features=11, min_samples_leaf=5, n_estimators=46, random_state=88; total time=   0.3s\n",
      "[CV] END max_features=11, min_samples_leaf=5, n_estimators=46, random_state=88; total time=   0.4s\n",
      "[CV] END max_features=11, min_samples_leaf=5, n_estimators=46, random_state=88; total time=   0.4s\n",
      "[CV] END max_features=11, min_samples_leaf=5, n_estimators=46, random_state=88; total time=   0.4s\n",
      "[CV] END max_features=11, min_samples_leaf=5, n_estimators=46, random_state=88; total time=   0.4s\n",
      "[CV] END max_features=11, min_samples_leaf=5, n_estimators=77, random_state=88; total time=   0.6s\n",
      "[CV] END max_features=11, min_samples_leaf=5, n_estimators=77, random_state=88; total time=   0.6s\n",
      "[CV] END max_features=11, min_samples_leaf=5, n_estimators=77, random_state=88; total time=   0.6s\n",
      "[CV] END max_features=11, min_samples_leaf=5, n_estimators=77, random_state=88; total time=   0.7s\n",
      "[CV] END max_features=11, min_samples_leaf=5, n_estimators=77, random_state=88; total time=   0.6s\n",
      "[CV] END max_features=11, min_samples_leaf=5, n_estimators=129, random_state=88; total time=   1.0s\n",
      "[CV] END max_features=11, min_samples_leaf=5, n_estimators=129, random_state=88; total time=   1.3s\n",
      "[CV] END max_features=11, min_samples_leaf=5, n_estimators=129, random_state=88; total time=   1.2s\n",
      "[CV] END max_features=11, min_samples_leaf=5, n_estimators=129, random_state=88; total time=   1.1s\n",
      "[CV] END max_features=11, min_samples_leaf=5, n_estimators=129, random_state=88; total time=   1.0s\n",
      "[CV] END max_features=11, min_samples_leaf=5, n_estimators=215, random_state=88; total time=   1.8s\n",
      "[CV] END max_features=11, min_samples_leaf=5, n_estimators=215, random_state=88; total time=   1.9s\n",
      "[CV] END max_features=11, min_samples_leaf=5, n_estimators=215, random_state=88; total time=   1.8s\n",
      "[CV] END max_features=11, min_samples_leaf=5, n_estimators=215, random_state=88; total time=   1.8s\n",
      "[CV] END max_features=11, min_samples_leaf=5, n_estimators=215, random_state=88; total time=   1.6s\n",
      "[CV] END max_features=11, min_samples_leaf=5, n_estimators=359, random_state=88; total time=   2.6s\n",
      "[CV] END max_features=11, min_samples_leaf=5, n_estimators=359, random_state=88; total time=   2.7s\n",
      "[CV] END max_features=11, min_samples_leaf=5, n_estimators=359, random_state=88; total time=   2.7s\n",
      "[CV] END max_features=11, min_samples_leaf=5, n_estimators=359, random_state=88; total time=   2.8s\n",
      "[CV] END max_features=11, min_samples_leaf=5, n_estimators=359, random_state=88; total time=   3.2s\n",
      "[CV] END max_features=11, min_samples_leaf=5, n_estimators=599, random_state=88; total time=   4.8s\n",
      "[CV] END max_features=11, min_samples_leaf=5, n_estimators=599, random_state=88; total time=   5.1s\n",
      "[CV] END max_features=11, min_samples_leaf=5, n_estimators=599, random_state=88; total time=   4.6s\n",
      "[CV] END max_features=11, min_samples_leaf=5, n_estimators=599, random_state=88; total time=   4.3s\n",
      "[CV] END max_features=11, min_samples_leaf=5, n_estimators=599, random_state=88; total time=   4.4s\n",
      "[CV] END max_features=11, min_samples_leaf=5, n_estimators=1000, random_state=88; total time=   7.5s\n",
      "[CV] END max_features=11, min_samples_leaf=5, n_estimators=1000, random_state=88; total time=   7.6s\n",
      "[CV] END max_features=11, min_samples_leaf=5, n_estimators=1000, random_state=88; total time=   7.6s\n",
      "[CV] END max_features=11, min_samples_leaf=5, n_estimators=1000, random_state=88; total time=   7.5s\n",
      "[CV] END max_features=11, min_samples_leaf=5, n_estimators=1000, random_state=88; total time=   7.6s\n",
      "time: 105.63 s\n"
     ]
    }
   ],
   "source": [
    "import time\n",
    "\n",
    "grid_values = {\"max_features\": [11],\n",
    "               \"min_samples_leaf\": [5],\n",
    "               \"n_estimators\": np.round(np.logspace(1,3,10)).astype(\"int32\"),\n",
    "               \"random_state\": [88]}\n",
    "\n",
    "tic = time.time()\n",
    "\n",
    "rf2 = RandomForestRegressor()\n",
    "\n",
    "cv = KFold(n_splits = 5, random_state = 333, shuffle = True)\n",
    "rf_cv = GridSearchCV(rf2, param_grid = grid_values, scoring = 'r2', cv = cv, verbose = 2)\n",
    "rf_cv.fit(X_train, y_train)\n",
    "\n",
    "toc = time.time()\n",
    "\n",
    "print('time:', round(toc-tic, 2), 's')"
   ]
  },
  {
   "cell_type": "code",
   "execution_count": 22,
   "metadata": {},
   "outputs": [
    {
     "data": {
      "text/plain": [
       "(0.5, 0.53)"
      ]
     },
     "execution_count": 22,
     "metadata": {},
     "output_type": "execute_result"
    },
    {
     "data": {
      "image/png": "[encoded data removed]",
      "text/plain": [
       "<Figure size 800x600 with 1 Axes>"
      ]
     },
     "metadata": {},
     "output_type": "display_data"
    }
   ],
   "source": [
    "n_estimators = rf_cv.cv_results_[\"param_n_estimators\"].data\n",
    "R2_scores = rf_cv.cv_results_[\"mean_test_score\"]\n",
    "\n",
    "plt.figure(figsize=(8, 6)) \n",
    "plt.xlabel('n_estinators', fontsize=16) \n",
    "plt.ylabel('CV R2', fontsize=16) \n",
    "plt.scatter(n_estimators, R2_scores, s=30) \n",
    "plt.semilogx(n_estimators, R2_scores, linewidth=3) \n",
    "plt.grid(True, which='both') \n",
    "plt.xlim([10, 1050]) \n",
    "plt.ylim([0.5, 0.53])"
   ]
  },
  {
   "cell_type": "code",
   "execution_count": 23,
   "metadata": {},
   "outputs": [
    {
     "data": {
      "text/plain": [
       "array([0.51018608, 0.51762907, 0.52116733, 0.52461924, 0.52562347,\n",
       "       0.52603144, 0.52710537, 0.52691416, 0.52853307, 0.52860553])"
      ]
     },
     "execution_count": 23,
     "metadata": {},
     "output_type": "execute_result"
    }
   ],
   "source": [
    "R2_scores"
   ]
  },
  {
   "cell_type": "markdown",
   "metadata": {
    "id": "Lp_JSVJmNWHT"
   },
   "source": [
    "## 3. GRADIENT BOOSTED TREES"
   ]
  },
  {
   "cell_type": "markdown",
   "metadata": {
    "id": "vnl0uWt8NWHT"
   },
   "source": [
    "### 3.1 Gradient Boosting Regressor\n",
    "\n",
    "Controlling tree size using `max_leaf_nodes` vs. `max_depth`: https://scikit-learn.org/stable/modules/ensemble.html#controlling-the-tree-size\n",
    "\n",
    "We choose use `max_leaf_nodes` as our primary parameter to control the size of the tree: we set `max_depth` to a large value so that it does not interfere with the construction of the trees."
   ]
  },
  {
   "cell_type": "markdown",
   "metadata": {
    "id": "Mj8fzvBH98wE"
   },
   "source": [
    "Gradient boosted regression trees combine multiple decision trees to build a more powerful model. Although \"regression\" is in the name, this model can be used for both regression and classification.\n",
    "\n",
    "Unlike the random forest method, gradient boosting constructs trees in a continuous manner, with each tree trying to correct the errors of the previous tree. By default, there is no randomization in gradient boosted regression trees, but strong pre-pruning is used.\n",
    "\n",
    "Gradient boosting trees usually use very small depths (between 1-5). Such models take up less memory and are faster in prediction. The main idea behind gradient boosting is to combine many simple models (weak learners), such as trees with small depth. Each tree can only make better predictions for part of the data, so more and more trees are added, and performance can be improved through continuous iteration.\n",
    "\n",
    "Gradient boosted trees are usually very sensitive to parameter settings, but if the parameters are set correctly, the model accuracy will be higher. In addition to the number of pre-pruned and integrated trees, another important parameter of gradient boosting is learning_rate (learning rate), which is used to control the strength of each tree to correct the errors of the previous tree. A higher learning rate means each tree can make stronger corrections, making the model more complex. Adding more trees to the ensemble by increasing n_estimators also increases the complexity of the model, since the model has more opportunities to correct errors on the training set."
   ]
  },
  {
   "cell_type": "code",
   "execution_count": null,
   "metadata": {
    "colab": {
     "base_uri": "https://localhost:8080/",
     "height": 630
    },
    "executionInfo": {
     "elapsed": 16238,
     "status": "ok",
     "timestamp": 1713480081853,
     "user": {
      "displayName": "Ying Chen",
      "userId": "14109808973627602191"
     },
     "user_tz": 420
    },
    "id": "Az2qDk7HNWHT",
    "outputId": "9d4fbf15-1c6d-40f6-f832-6bbcaaf75402"
   },
   "outputs": [
    {
     "name": "stdout",
     "output_type": "stream",
     "text": [
      "      Iter       Train Loss   Remaining Time \n",
      "         1           0.0060           15.80s\n",
      "         2           0.0060           15.96s\n",
      "         3           0.0060           15.43s\n",
      "         4           0.0060           15.12s\n",
      "         5           0.0060           14.94s\n",
      "         6           0.0060           15.35s\n",
      "         7           0.0060           15.42s\n",
      "         8           0.0060           15.23s\n",
      "         9           0.0060           15.33s\n",
      "        10           0.0060           15.38s\n",
      "        20           0.0059           14.71s\n",
      "        30           0.0059           14.54s\n",
      "        40           0.0059           14.46s\n",
      "        50           0.0058           14.26s\n",
      "        60           0.0058           14.09s\n",
      "        70           0.0058           14.76s\n",
      "        80           0.0057           15.17s\n",
      "        90           0.0057           15.58s\n",
      "       100           0.0057           15.87s\n",
      "       200           0.0054           15.56s\n",
      "       300           0.0051           14.95s\n",
      "       400           0.0049           13.57s\n",
      "       500           0.0047           12.15s\n",
      "       600           0.0046           10.91s\n",
      "       700           0.0044            9.78s\n",
      "       800           0.0043            8.85s\n",
      "       900           0.0042            7.97s\n",
      "      1000           0.0041            7.38s\n",
      "      2000           0.0035            0.00s\n"
     ]
    },
    {
     "data": {
      "text/html": [
       "<style>#sk-container-id-3 {color: black;background-color: white;}#sk-container-id-3 pre{padding: 0;}#sk-container-id-3 div.sk-toggleable {background-color: white;}#sk-container-id-3 label.sk-toggleable__label {cursor: pointer;display: block;width: 100%;margin-bottom: 0;padding: 0.3em;box-sizing: border-box;text-align: center;}#sk-container-id-3 label.sk-toggleable__label-arrow:before {content: \"▸\";float: left;margin-right: 0.25em;color: #696969;}#sk-container-id-3 label.sk-toggleable__label-arrow:hover:before {color: black;}#sk-container-id-3 div.sk-estimator:hover label.sk-toggleable__label-arrow:before {color: black;}#sk-container-id-3 div.sk-toggleable__content {max-height: 0;max-width: 0;overflow: hidden;text-align: left;background-color: #f0f8ff;}#sk-container-id-3 div.sk-toggleable__content pre {margin: 0.2em;color: black;border-radius: 0.25em;background-color: #f0f8ff;}#sk-container-id-3 input.sk-toggleable__control:checked~div.sk-toggleable__content {max-height: 200px;max-width: 100%;overflow: auto;}#sk-container-id-3 input.sk-toggleable__control:checked~label.sk-toggleable__label-arrow:before {content: \"▾\";}#sk-container-id-3 div.sk-estimator input.sk-toggleable__control:checked~label.sk-toggleable__label {background-color: #d4ebff;}#sk-container-id-3 div.sk-label input.sk-toggleable__control:checked~label.sk-toggleable__label {background-color: #d4ebff;}#sk-container-id-3 input.sk-hidden--visually {border: 0;clip: rect(1px 1px 1px 1px);clip: rect(1px, 1px, 1px, 1px);height: 1px;margin: -1px;overflow: hidden;padding: 0;position: absolute;width: 1px;}#sk-container-id-3 div.sk-estimator {font-family: monospace;background-color: #f0f8ff;border: 1px dotted black;border-radius: 0.25em;box-sizing: border-box;margin-bottom: 0.5em;}#sk-container-id-3 div.sk-estimator:hover {background-color: #d4ebff;}#sk-container-id-3 div.sk-parallel-item::after {content: \"\";width: 100%;border-bottom: 1px solid gray;flex-grow: 1;}#sk-container-id-3 div.sk-label:hover label.sk-toggleable__label {background-color: #d4ebff;}#sk-container-id-3 div.sk-serial::before {content: \"\";position: absolute;border-left: 1px solid gray;box-sizing: border-box;top: 0;bottom: 0;left: 50%;z-index: 0;}#sk-container-id-3 div.sk-serial {display: flex;flex-direction: column;align-items: center;background-color: white;padding-right: 0.2em;padding-left: 0.2em;position: relative;}#sk-container-id-3 div.sk-item {position: relative;z-index: 1;}#sk-container-id-3 div.sk-parallel {display: flex;align-items: stretch;justify-content: center;background-color: white;position: relative;}#sk-container-id-3 div.sk-item::before, #sk-container-id-3 div.sk-parallel-item::before {content: \"\";position: absolute;border-left: 1px solid gray;box-sizing: border-box;top: 0;bottom: 0;left: 50%;z-index: -1;}#sk-container-id-3 div.sk-parallel-item {display: flex;flex-direction: column;z-index: 1;position: relative;background-color: white;}#sk-container-id-3 div.sk-parallel-item:first-child::after {align-self: flex-end;width: 50%;}#sk-container-id-3 div.sk-parallel-item:last-child::after {align-self: flex-start;width: 50%;}#sk-container-id-3 div.sk-parallel-item:only-child::after {width: 0;}#sk-container-id-3 div.sk-dashed-wrapped {border: 1px dashed gray;margin: 0 0.4em 0.5em 0.4em;box-sizing: border-box;padding-bottom: 0.4em;background-color: white;}#sk-container-id-3 div.sk-label label {font-family: monospace;font-weight: bold;display: inline-block;line-height: 1.2em;}#sk-container-id-3 div.sk-label-container {text-align: center;}#sk-container-id-3 div.sk-container {/* jupyter's `normalize.less` sets `[hidden] { display: none; }` but bootstrap.min.css set `[hidden] { display: none !important; }` so we also need the `!important` here to be able to override the default hidden behavior on the sphinx rendered scikit-learn.org. See: https://github.com/scikit-learn/scikit-learn/issues/21755 */display: inline-block !important;position: relative;}#sk-container-id-3 div.sk-text-repr-fallback {display: none;}</style><div id=\"sk-container-id-3\" class=\"sk-top-container\"><div class=\"sk-text-repr-fallback\"><pre>GradientBoostingRegressor(learning_rate=0.001, max_depth=10, max_leaf_nodes=3,\n",
       "                          min_samples_leaf=10, n_estimators=2000,\n",
       "                          random_state=88, verbose=1)</pre><b>In a Jupyter environment, please rerun this cell to show the HTML representation or trust the notebook. <br />On GitHub, the HTML representation is unable to render, please try loading this page with nbviewer.org.</b></div><div class=\"sk-container\" hidden><div class=\"sk-item\"><div class=\"sk-estimator sk-toggleable\"><input class=\"sk-toggleable__control sk-hidden--visually\" id=\"sk-estimator-id-5\" type=\"checkbox\" checked><label for=\"sk-estimator-id-5\" class=\"sk-toggleable__label sk-toggleable__label-arrow\">GradientBoostingRegressor</label><div class=\"sk-toggleable__content\"><pre>GradientBoostingRegressor(learning_rate=0.001, max_depth=10, max_leaf_nodes=3,\n",
       "                          min_samples_leaf=10, n_estimators=2000,\n",
       "                          random_state=88, verbose=1)</pre></div></div></div></div></div>"
      ],
      "text/plain": [
       "GradientBoostingRegressor(learning_rate=0.001, max_depth=10, max_leaf_nodes=3,\n",
       "                          min_samples_leaf=10, n_estimators=2000,\n",
       "                          random_state=88, verbose=1)"
      ]
     },
     "execution_count": 18,
     "metadata": {},
     "output_type": "execute_result"
    }
   ],
   "source": [
    "from sklearn.ensemble import GradientBoostingRegressor\n",
    "\n",
    "gbr = GradientBoostingRegressor(n_estimators=2000, learning_rate= 0.001, max_leaf_nodes=3,\n",
    "                                max_depth=10, min_samples_leaf=10, random_state=88, verbose=1)\n",
    "gbr.fit(X_train, y_train)"
   ]
  },
  {
   "cell_type": "code",
   "execution_count": null,
   "metadata": {
    "colab": {
     "base_uri": "https://localhost:8080/"
    },
    "executionInfo": {
     "elapsed": 16,
     "status": "ok",
     "timestamp": 1713480081853,
     "user": {
      "displayName": "Ying Chen",
      "userId": "14109808973627602191"
     },
     "user_tz": 420
    },
    "id": "bFzs6GoyNWHT",
    "outputId": "8fe271a9-f063-4117-beb2-506ea14b2ece",
    "scrolled": true
   },
   "outputs": [
    {
     "name": "stdout",
     "output_type": "stream",
     "text": [
      "OSR2: 0.4388\n"
     ]
    }
   ],
   "source": [
    "print('OSR2:', round(OSR2(gbr, X_test, y_test, y_train), 5))"
   ]
  },
  {
   "cell_type": "markdown",
   "metadata": {
    "id": "zje8ckOyNWHT"
   },
   "source": [
    "Note that the OSR2 of the above gbr model is not very good. It is because the model is quite sensitive to hypterparameters. We will learn how to find the best parameters using cross-validation and see the improvement one could get from choosing the best hyperparameters."
   ]
  },
  {
   "cell_type": "markdown",
   "metadata": {
    "id": "Kr-xSj5JNWHT"
   },
   "source": [
    "### 3.2 Gradient Boosting Regressor with CV\n",
    "\n",
    "Note that if you use the `GridSearchCV` function directly with the gbr as the classifier, the run-time is super long (e.g., more than 30 hours). The reason is that the naive implement of `GridSearchCV` does not take into account the special additive nature of the Boosting models.\n",
    "\n",
    "For example, if you need to decide what is the best number of trees to include in your model and you would like to try values from 1 to 10000. The naive implementation of `GridSearchCV` would train 10000 different gbr models. However, a much more efficient way is to train a model with 10000 trees, and only subset a subset of them in your model when needed. This trick allows us to reduce the training time of gbr_cv to less than 2 hours.\n",
    "\n",
    "If you use the `caret` package in `R`, they have implemented this efficient algorithm, but there is not a good counterpart in `Python` `sklearn`. Therefore, below is the code that manually implemented by the GSI. It is a good example to demonstrate the flexibility you can achieve if you go beyond the built-in packages. The code takes 2 hour to run for the current hyperparameter grid, where\n",
    "\n",
    "`n_estimators = np.linspace(500, 75*500, 75, dtype='int32')\n",
    "max_leaf_nodes = np.linspace(2, 10, 9, dtype='int32')  `\n",
    "\n",
    "However, you can change these values to a small subset to reduce the run-time."
   ]
  },
  {
   "cell_type": "markdown",
   "metadata": {
    "id": "Exj5Wt8sNWHU"
   },
   "source": [
    "#### 3.2.1 Split the training data into 5 folds for cross validation"
   ]
  },
  {
   "cell_type": "code",
   "execution_count": null,
   "metadata": {
    "id": "rRs1FWHzNWHU"
   },
   "outputs": [],
   "source": [
    "from sklearn.model_selection import KFold\n",
    "kf = KFold(n_splits=5,shuffle=True, random_state=88)\n",
    "kfold_index = []\n",
    "for index in kf.split(X_train):\n",
    "    kfold_index.append(index)\n",
    "# Each element of kfold_index is in the form of (train_kfold_index, validation_kfold_index)"
   ]
  },
  {
   "cell_type": "markdown",
   "metadata": {
    "id": "eSPSyaGLNWHU"
   },
   "source": [
    "#### 3.2.2 Define the grid and initialize the output array"
   ]
  },
  {
   "cell_type": "code",
   "execution_count": null,
   "metadata": {
    "id": "4Gu0EgxuNWHU"
   },
   "outputs": [],
   "source": [
    "# Define the grid (## I am using a subset of the original grid, to reduce the running time)\n",
    "n_estimators = np.linspace(500, 75*500, 75, dtype='int32')\n",
    "max_leaf_nodes = np.linspace(2, 10, 9, dtype='int32')"
   ]
  },
  {
   "cell_type": "code",
   "execution_count": null,
   "metadata": {
    "colab": {
     "base_uri": "https://localhost:8080/"
    },
    "executionInfo": {
     "elapsed": 14,
     "status": "ok",
     "timestamp": 1713480081854,
     "user": {
      "displayName": "Ying Chen",
      "userId": "14109808973627602191"
     },
     "user_tz": 420
    },
    "id": "dRQRe1xMNWHU",
    "outputId": "7544bd09-bd8d-4a50-bb8e-119dff9dd56f"
   },
   "outputs": [
    {
     "name": "stdout",
     "output_type": "stream",
     "text": [
      "(75, 9)\n"
     ]
    }
   ],
   "source": [
    "# Initialize the output array\n",
    "R2_array = np.zeros([len(n_estimators),len(max_leaf_nodes)])\n",
    "R2_array[:]=np.nan\n",
    "RMSE_array = np.zeros([len(n_estimators),len(max_leaf_nodes)])\n",
    "RMSE_array[:]=np.nan\n",
    "MAE_array = np.zeros([len(n_estimators),len(max_leaf_nodes)])\n",
    "MAE_array[:]=np.nan\n",
    "print(R2_array.shape)"
   ]
  },
  {
   "cell_type": "markdown",
   "metadata": {
    "id": "btZ2Y4b8NWHU"
   },
   "source": [
    "#### 3.2.3 Manually implement the k-fold cv for the gbr model"
   ]
  },
  {
   "cell_type": "code",
   "execution_count": null,
   "metadata": {
    "id": "40iu2iVNn4G7",
    "outputId": "1e9cb7d5-0e18-43b0-ffd9-63fdd946c5c7"
   },
   "outputs": [
    {
     "name": "stdout",
     "output_type": "stream",
     "text": [
      "iter 0, max_depth: 2\n",
      "   fold-0, training set size 3391, validation set size 848\n",
      "        cv fold-0, time-ellapsed: 109.03\n",
      "   fold-1, training set size 3391, validation set size 848\n",
      "        cv fold-1, time-ellapsed: 220.15\n",
      "   fold-2, training set size 3391, validation set size 848\n",
      "        cv fold-2, time-ellapsed: 331.08\n",
      "   fold-3, training set size 3391, validation set size 848\n",
      "        cv fold-3, time-ellapsed: 440.39\n",
      "   fold-4, training set size 3392, validation set size 847\n",
      "        cv fold-4, time-ellapsed: 549.18\n",
      "iter 1, max_depth: 3\n",
      "   fold-0, training set size 3391, validation set size 848\n",
      "        cv fold-0, time-ellapsed: 674.29\n",
      "   fold-1, training set size 3391, validation set size 848\n",
      "        cv fold-1, time-ellapsed: 798.76\n",
      "   fold-2, training set size 3391, validation set size 848\n",
      "        cv fold-2, time-ellapsed: 931.63\n",
      "   fold-3, training set size 3391, validation set size 848\n",
      "        cv fold-3, time-ellapsed: 1061.58\n",
      "   fold-4, training set size 3392, validation set size 847\n",
      "        cv fold-4, time-ellapsed: 1187.44\n",
      "iter 2, max_depth: 4\n",
      "   fold-0, training set size 3391, validation set size 848\n",
      "        cv fold-0, time-ellapsed: 1321.51\n",
      "   fold-1, training set size 3391, validation set size 848\n",
      "        cv fold-1, time-ellapsed: 1455.03\n",
      "   fold-2, training set size 3391, validation set size 848\n",
      "        cv fold-2, time-ellapsed: 1589.06\n",
      "   fold-3, training set size 3391, validation set size 848\n",
      "        cv fold-3, time-ellapsed: 1720.44\n",
      "   fold-4, training set size 3392, validation set size 847\n",
      "        cv fold-4, time-ellapsed: 1853.51\n",
      "iter 3, max_depth: 5\n",
      "   fold-0, training set size 3391, validation set size 848\n",
      "        cv fold-0, time-ellapsed: 1997.36\n",
      "   fold-1, training set size 3391, validation set size 848\n",
      "        cv fold-1, time-ellapsed: 2141.71\n",
      "   fold-2, training set size 3391, validation set size 848\n",
      "        cv fold-2, time-ellapsed: 2288.60\n",
      "   fold-3, training set size 3391, validation set size 848\n",
      "        cv fold-3, time-ellapsed: 2429.96\n",
      "   fold-4, training set size 3392, validation set size 847\n",
      "        cv fold-4, time-ellapsed: 2574.95\n",
      "iter 4, max_depth: 6\n",
      "   fold-0, training set size 3391, validation set size 848\n",
      "        cv fold-0, time-ellapsed: 2730.76\n",
      "   fold-1, training set size 3391, validation set size 848\n",
      "        cv fold-1, time-ellapsed: 2884.41\n",
      "   fold-2, training set size 3391, validation set size 848\n",
      "        cv fold-2, time-ellapsed: 3033.76\n",
      "   fold-3, training set size 3391, validation set size 848\n",
      "        cv fold-3, time-ellapsed: 3185.86\n",
      "   fold-4, training set size 3392, validation set size 847\n",
      "        cv fold-4, time-ellapsed: 3337.17\n",
      "iter 5, max_depth: 7\n",
      "   fold-0, training set size 3391, validation set size 848\n",
      "        cv fold-0, time-ellapsed: 3503.54\n",
      "   fold-1, training set size 3391, validation set size 848\n",
      "        cv fold-1, time-ellapsed: 3663.17\n",
      "   fold-2, training set size 3391, validation set size 848\n",
      "        cv fold-2, time-ellapsed: 3822.07\n",
      "   fold-3, training set size 3391, validation set size 848\n",
      "        cv fold-3, time-ellapsed: 3982.89\n",
      "   fold-4, training set size 3392, validation set size 847\n",
      "        cv fold-4, time-ellapsed: 4144.62\n",
      "iter 6, max_depth: 8\n",
      "   fold-0, training set size 3391, validation set size 848\n",
      "        cv fold-0, time-ellapsed: 4316.34\n",
      "   fold-1, training set size 3391, validation set size 848\n",
      "        cv fold-1, time-ellapsed: 4483.41\n",
      "   fold-2, training set size 3391, validation set size 848\n",
      "        cv fold-2, time-ellapsed: 4650.67\n",
      "   fold-3, training set size 3391, validation set size 848\n",
      "        cv fold-3, time-ellapsed: 4817.93\n",
      "   fold-4, training set size 3392, validation set size 847\n",
      "        cv fold-4, time-ellapsed: 4988.01\n",
      "iter 7, max_depth: 9\n",
      "   fold-0, training set size 3391, validation set size 848\n",
      "        cv fold-0, time-ellapsed: 5168.61\n",
      "   fold-1, training set size 3391, validation set size 848\n",
      "        cv fold-1, time-ellapsed: 5342.44\n",
      "   fold-2, training set size 3391, validation set size 848\n",
      "        cv fold-2, time-ellapsed: 5518.84\n",
      "   fold-3, training set size 3391, validation set size 848\n",
      "        cv fold-3, time-ellapsed: 5696.87\n",
      "   fold-4, training set size 3392, validation set size 847\n",
      "        cv fold-4, time-ellapsed: 5876.78\n",
      "iter 8, max_depth: 10\n",
      "   fold-0, training set size 3391, validation set size 848\n",
      "        cv fold-0, time-ellapsed: 6068.75\n",
      "   fold-1, training set size 3391, validation set size 848\n",
      "        cv fold-1, time-ellapsed: 6248.62\n",
      "   fold-2, training set size 3391, validation set size 848\n",
      "        cv fold-2, time-ellapsed: 6432.38\n",
      "   fold-3, training set size 3391, validation set size 848\n",
      "        cv fold-3, time-ellapsed: 6618.95\n",
      "   fold-4, training set size 3392, validation set size 847\n",
      "        cv fold-4, time-ellapsed: 6804.91\n"
     ]
    }
   ],
   "source": [
    "from sklearn.ensemble import GradientBoostingRegressor\n",
    "from scipy.stats import pearsonr\n",
    "from sklearn.metrics import mean_squared_error\n",
    "from sklearn.metrics import mean_absolute_error\n",
    "\n",
    "import time\n",
    "start = time.time()\n",
    "for itr in range(len(max_leaf_nodes)):\n",
    "    depth = max_leaf_nodes[itr]\n",
    "    print('iter % s, max_depth: %s' % (itr, depth))\n",
    "    #------begin the 5-fold cross validation ------\n",
    "    R2_array_cv = np.zeros([len(n_estimators),5])\n",
    "    R2_array_cv[:]=np.nan\n",
    "    RMSE_array_cv = np.zeros([len(n_estimators),5])\n",
    "    RMSE_array_cv[:]=np.nan\n",
    "    MAE_array_cv = np.zeros([len(n_estimators),5])\n",
    "    MAE_array_cv[:]=np.nan\n",
    "    for i in range(5):\n",
    "        train_idx, val_idx = kfold_index[i]\n",
    "        X_train_cv = X_train.iloc[train_idx]\n",
    "        y_train_cv = y_train.iloc[train_idx]\n",
    "        X_val_cv = X_train.iloc[val_idx]\n",
    "        y_val_cv = y_train.iloc[val_idx]\n",
    "        print('   fold-%s, training set size %s, validation set size %s' %(i, len(train_idx), len(val_idx)))\n",
    "        #------ Given each training set and validation set, train a gbr model with the maximum n_estimators\n",
    "        gbr2 = GradientBoostingRegressor(n_estimators = n_estimators[-1], learning_rate = 0.005, max_depth = 20,\n",
    "                                         max_leaf_nodes=depth, min_samples_leaf=10,random_state=99,verbose=0)\n",
    "        gbr2.fit(X_train_cv,y_train_cv)\n",
    "        j=0\n",
    "        idx=[]\n",
    "        r2_lst=[]\n",
    "        rmse_lst=[]\n",
    "        mae_lst=[]\n",
    "        for y_staged_pred in gbr2.staged_predict(X_val_cv): #gbr staged_predict: predict the result based on the subtree\n",
    "            r2= pearsonr(y_staged_pred, y_val_cv)[0] ** 2\n",
    "            rmse = mean_squared_error(y_val_cv, y_staged_pred, squared=False)\n",
    "            mae = mean_absolute_error(y_val_cv, y_staged_pred)\n",
    "            if j % 500 == 0:\n",
    "                idx.append(j)\n",
    "                r2_lst.append(r2)\n",
    "                rmse_lst.append(rmse)\n",
    "                mae_lst.append(mae)\n",
    "            j+=1\n",
    "        R2_array_cv[:,i]=r2_lst\n",
    "        RMSE_array_cv[:,i]=rmse_lst\n",
    "        MAE_array_cv[:,i]=mae_lst\n",
    "        print('        cv fold-%s, time-ellapsed: %.2f' %(i,time.time()-start))\n",
    "    R2_array[:,itr]=np.average(R2_array_cv,axis = 1)\n",
    "    RMSE_array[:,itr]=np.average(RMSE_array_cv,axis = 1)\n",
    "    MAE_array[:,itr]=np.average(MAE_array_cv,axis = 1)"
   ]
  },
  {
   "cell_type": "markdown",
   "metadata": {
    "id": "bCoerk2FNWHV"
   },
   "source": [
    "#### 3.2.4 Visualize the performance metrics (R^2)."
   ]
  },
  {
   "cell_type": "code",
   "execution_count": null,
   "metadata": {
    "id": "sDYmYGTRNWHV",
    "outputId": "b6cc88b4-6a51-473f-9640-ae989b3d2aa5"
   },
   "outputs": [
    {
     "data": {
      "image/png": "[encoded data removed]",
      "text/plain": [
       "<Figure size 864x576 with 1 Axes>"
      ]
     },
     "metadata": {
      "needs_background": "light"
     },
     "output_type": "display_data"
    }
   ],
   "source": [
    "plt.figure(figsize=(12, 8))\n",
    "plt.xlabel('n estimators', fontsize=16)\n",
    "plt.ylabel('CV R2', fontsize=16)\n",
    "plt.grid(True, which='both')\n",
    "\n",
    "N = len(max_leaf_nodes)\n",
    "M = len(n_estimators)\n",
    "for i in range(N):\n",
    "    plt.scatter(n_estimators, R2_array[:,i], s=30)\n",
    "    plt.plot(n_estimators, R2_array[:,i], linewidth=2,\n",
    "             label='max leaf nodes = '+str(max_leaf_nodes[i]))\n",
    "plt.legend(loc='lower right')\n",
    "plt.show()"
   ]
  },
  {
   "cell_type": "code",
   "execution_count": null,
   "metadata": {
    "id": "O8N7IfHzNWHV",
    "outputId": "1d9bb644-6a3b-4b46-a687-00e1b584d590"
   },
   "outputs": [
    {
     "name": "stdout",
     "output_type": "stream",
     "text": [
      "Best Model: n_estimator = 5000, max_leaf_nodes = 10\n"
     ]
    }
   ],
   "source": [
    "best_model_index = np.argmax(R2_array)\n",
    "row_index = best_model_index//R2_array.shape[1]\n",
    "col_index = best_model_index % R2_array.shape[1]\n",
    "best_n_estimators = n_estimators[row_index]\n",
    "best_max_leaf_nodes = max_leaf_nodes[col_index]\n",
    "print('Best Model: n_estimator = %s, max_leaf_nodes = %s' %(best_n_estimators, best_max_leaf_nodes))"
   ]
  },
  {
   "cell_type": "markdown",
   "metadata": {
    "id": "76cL0GtNNWHV"
   },
   "source": [
    "#### 3.2.5 Train the model with the best hyperparameters on the full training data."
   ]
  },
  {
   "cell_type": "code",
   "execution_count": null,
   "metadata": {
    "id": "DP1Ytw-ONWHV",
    "outputId": "fad3db25-ff81-4827-feb3-cff991daca52",
    "scrolled": true
   },
   "outputs": [
    {
     "data": {
      "text/plain": [
       "GradientBoostingRegressor(learning_rate=0.005, max_depth=20, max_leaf_nodes=10,\n",
       "                          min_samples_leaf=10, n_estimators=5000,\n",
       "                          random_state=99)"
      ]
     },
     "execution_count": 106,
     "metadata": {},
     "output_type": "execute_result"
    }
   ],
   "source": [
    "gbr_cv = GradientBoostingRegressor(n_estimators = best_n_estimators, learning_rate = 0.005, max_depth = 20,\n",
    "                                max_leaf_nodes=best_max_leaf_nodes, min_samples_leaf=10,random_state=99,verbose=0)\n",
    "gbr_cv.fit(X_train,y_train)"
   ]
  },
  {
   "cell_type": "markdown",
   "metadata": {
    "id": "26yVhPgVNWHV"
   },
   "source": [
    "#### 3.2.6 Evaluate the full model"
   ]
  },
  {
   "cell_type": "code",
   "execution_count": null,
   "metadata": {
    "id": "0yYCFbLlNWHV",
    "outputId": "f3dd15b4-669d-40f8-adf7-3493e54111c8"
   },
   "outputs": [
    {
     "name": "stdout",
     "output_type": "stream",
     "text": [
      "Cross-validated R2: 0.55082\n",
      "OSR2: 0.53333\n"
     ]
    }
   ],
   "source": [
    "print('Cross-validated R2:', round(R2_array[row_index, col_index], 5))\n",
    "print('OSR2:', round(OSR2(gbr_cv, X_test, y_test, y_train), 5))"
   ]
  },
  {
   "cell_type": "code",
   "execution_count": null,
   "metadata": {
    "id": "gjY2fb1uNWHW",
    "outputId": "620d7293-d65b-4d63-813d-7b327b9283e0",
    "scrolled": true
   },
   "outputs": [
    {
     "data": {
      "text/html": [
       "<div>\n",
       "<style scoped>\n",
       "    .dataframe tbody tr th:only-of-type {\n",
       "        vertical-align: middle;\n",
       "    }\n",
       "\n",
       "    .dataframe tbody tr th {\n",
       "        vertical-align: top;\n",
       "    }\n",
       "\n",
       "    .dataframe thead th {\n",
       "        text-align: right;\n",
       "    }\n",
       "</style>\n",
       "<table border=\"1\" class=\"dataframe\">\n",
       "  <thead>\n",
       "    <tr style=\"text-align: right;\">\n",
       "      <th></th>\n",
       "      <th>Feature</th>\n",
       "      <th>Importance score</th>\n",
       "    </tr>\n",
       "  </thead>\n",
       "  <tbody>\n",
       "    <tr>\n",
       "      <th>0</th>\n",
       "      <td>titleWords</td>\n",
       "      <td>2.0</td>\n",
       "    </tr>\n",
       "    <tr>\n",
       "      <th>1</th>\n",
       "      <td>adWords</td>\n",
       "      <td>3.0</td>\n",
       "    </tr>\n",
       "    <tr>\n",
       "      <th>2</th>\n",
       "      <td>depth</td>\n",
       "      <td>2.5</td>\n",
       "    </tr>\n",
       "    <tr>\n",
       "      <th>3</th>\n",
       "      <td>position</td>\n",
       "      <td>0.4</td>\n",
       "    </tr>\n",
       "    <tr>\n",
       "      <th>4</th>\n",
       "      <td>advCTR</td>\n",
       "      <td>13.2</td>\n",
       "    </tr>\n",
       "    <tr>\n",
       "      <th>5</th>\n",
       "      <td>advCTRInPos</td>\n",
       "      <td>49.5</td>\n",
       "    </tr>\n",
       "    <tr>\n",
       "      <th>6</th>\n",
       "      <td>queryCTR</td>\n",
       "      <td>6.4</td>\n",
       "    </tr>\n",
       "    <tr>\n",
       "      <th>7</th>\n",
       "      <td>queryCTRInPos</td>\n",
       "      <td>21.3</td>\n",
       "    </tr>\n",
       "    <tr>\n",
       "      <th>8</th>\n",
       "      <td>gender_female</td>\n",
       "      <td>0.4</td>\n",
       "    </tr>\n",
       "    <tr>\n",
       "      <th>9</th>\n",
       "      <td>gender_male</td>\n",
       "      <td>0.1</td>\n",
       "    </tr>\n",
       "    <tr>\n",
       "      <th>10</th>\n",
       "      <td>gender_unknown</td>\n",
       "      <td>0.2</td>\n",
       "    </tr>\n",
       "    <tr>\n",
       "      <th>11</th>\n",
       "      <td>age_0-12</td>\n",
       "      <td>0.0</td>\n",
       "    </tr>\n",
       "    <tr>\n",
       "      <th>12</th>\n",
       "      <td>age_13-18</td>\n",
       "      <td>0.1</td>\n",
       "    </tr>\n",
       "    <tr>\n",
       "      <th>13</th>\n",
       "      <td>age_19-24</td>\n",
       "      <td>0.1</td>\n",
       "    </tr>\n",
       "    <tr>\n",
       "      <th>14</th>\n",
       "      <td>age_25-30</td>\n",
       "      <td>0.2</td>\n",
       "    </tr>\n",
       "    <tr>\n",
       "      <th>15</th>\n",
       "      <td>age_31-40</td>\n",
       "      <td>0.1</td>\n",
       "    </tr>\n",
       "    <tr>\n",
       "      <th>16</th>\n",
       "      <td>age_41+</td>\n",
       "      <td>0.0</td>\n",
       "    </tr>\n",
       "    <tr>\n",
       "      <th>17</th>\n",
       "      <td>age_unknown</td>\n",
       "      <td>0.4</td>\n",
       "    </tr>\n",
       "  </tbody>\n",
       "</table>\n",
       "</div>"
      ],
      "text/plain": [
       "           Feature  Importance score\n",
       "0       titleWords               2.0\n",
       "1          adWords               3.0\n",
       "2            depth               2.5\n",
       "3         position               0.4\n",
       "4           advCTR              13.2\n",
       "5      advCTRInPos              49.5\n",
       "6         queryCTR               6.4\n",
       "7    queryCTRInPos              21.3\n",
       "8    gender_female               0.4\n",
       "9      gender_male               0.1\n",
       "10  gender_unknown               0.2\n",
       "11        age_0-12               0.0\n",
       "12       age_13-18               0.1\n",
       "13       age_19-24               0.1\n",
       "14       age_25-30               0.2\n",
       "15       age_31-40               0.1\n",
       "16         age_41+               0.0\n",
       "17     age_unknown               0.4"
      ]
     },
     "execution_count": 109,
     "metadata": {},
     "output_type": "execute_result"
    }
   ],
   "source": [
    "pd.DataFrame({'Feature' : X_train.columns,\n",
    "              'Importance score': 100*gbr_cv.feature_importances_}).round(1)"
   ]
  },
  {
   "cell_type": "markdown",
   "metadata": {
    "id": "a9eaCdXGNWHW"
   },
   "source": [
    "## 4. Final Comparison"
   ]
  },
  {
   "cell_type": "markdown",
   "metadata": {
    "id": "VPMrg7HlNWHW"
   },
   "source": [
    "### 4.1 Linear Regression Baseline"
   ]
  },
  {
   "cell_type": "code",
   "execution_count": null,
   "metadata": {
    "id": "91nuo2IUNWHW"
   },
   "outputs": [],
   "source": [
    "from sklearn.linear_model import LinearRegression\n",
    "\n",
    "lr = LinearRegression().fit(X_train, y_train)"
   ]
  },
  {
   "cell_type": "markdown",
   "metadata": {
    "id": "5hucy1o0NWHW"
   },
   "source": [
    "### 4.2 Comparison Table"
   ]
  },
  {
   "cell_type": "code",
   "execution_count": null,
   "metadata": {
    "id": "3yxUwSVTNWHW",
    "outputId": "f096645e-5946-4829-8bf6-9327bc9bd9eb",
    "scrolled": true
   },
   "outputs": [
    {
     "data": {
      "text/html": [
       "<style  type=\"text/css\" >\n",
       "    #T_79cd3750_7c81_11eb_93cc_f218983fc4f4 th {\n",
       "          font-size: 10pt;\n",
       "    }#T_79cd3750_7c81_11eb_93cc_f218983fc4f4row0_col0,#T_79cd3750_7c81_11eb_93cc_f218983fc4f4row0_col1,#T_79cd3750_7c81_11eb_93cc_f218983fc4f4row0_col2,#T_79cd3750_7c81_11eb_93cc_f218983fc4f4row0_col3,#T_79cd3750_7c81_11eb_93cc_f218983fc4f4row1_col0,#T_79cd3750_7c81_11eb_93cc_f218983fc4f4row1_col1,#T_79cd3750_7c81_11eb_93cc_f218983fc4f4row1_col2,#T_79cd3750_7c81_11eb_93cc_f218983fc4f4row1_col3,#T_79cd3750_7c81_11eb_93cc_f218983fc4f4row2_col0,#T_79cd3750_7c81_11eb_93cc_f218983fc4f4row2_col1,#T_79cd3750_7c81_11eb_93cc_f218983fc4f4row2_col2,#T_79cd3750_7c81_11eb_93cc_f218983fc4f4row2_col3{\n",
       "            font-size:  12pt;\n",
       "        }</style><table id=\"T_79cd3750_7c81_11eb_93cc_f218983fc4f4\" ><thead>    <tr>        <th class=\"blank level0\" ></th>        <th class=\"col_heading level0 col0\" >Linear Regression</th>        <th class=\"col_heading level0 col1\" >Decision Tree Regressor</th>        <th class=\"col_heading level0 col2\" >Random Forest</th>        <th class=\"col_heading level0 col3\" >Gradient Boosted Trees</th>    </tr></thead><tbody>\n",
       "                <tr>\n",
       "                        <th id=\"T_79cd3750_7c81_11eb_93cc_f218983fc4f4level0_row0\" class=\"row_heading level0 row0\" >OSR2</th>\n",
       "                        <td id=\"T_79cd3750_7c81_11eb_93cc_f218983fc4f4row0_col0\" class=\"data row0 col0\" >0.488</td>\n",
       "                        <td id=\"T_79cd3750_7c81_11eb_93cc_f218983fc4f4row0_col1\" class=\"data row0 col1\" >0.436</td>\n",
       "                        <td id=\"T_79cd3750_7c81_11eb_93cc_f218983fc4f4row0_col2\" class=\"data row0 col2\" >0.556</td>\n",
       "                        <td id=\"T_79cd3750_7c81_11eb_93cc_f218983fc4f4row0_col3\" class=\"data row0 col3\" >0.533</td>\n",
       "            </tr>\n",
       "            <tr>\n",
       "                        <th id=\"T_79cd3750_7c81_11eb_93cc_f218983fc4f4level0_row1\" class=\"row_heading level0 row1\" >Out-of-sample MSE</th>\n",
       "                        <td id=\"T_79cd3750_7c81_11eb_93cc_f218983fc4f4row1_col0\" class=\"data row1 col0\" >0.0028</td>\n",
       "                        <td id=\"T_79cd3750_7c81_11eb_93cc_f218983fc4f4row1_col1\" class=\"data row1 col1\" >0.0030</td>\n",
       "                        <td id=\"T_79cd3750_7c81_11eb_93cc_f218983fc4f4row1_col2\" class=\"data row1 col2\" >0.0024</td>\n",
       "                        <td id=\"T_79cd3750_7c81_11eb_93cc_f218983fc4f4row1_col3\" class=\"data row1 col3\" >0.0025</td>\n",
       "            </tr>\n",
       "            <tr>\n",
       "                        <th id=\"T_79cd3750_7c81_11eb_93cc_f218983fc4f4level0_row2\" class=\"row_heading level0 row2\" >Out-of-sample MAE</th>\n",
       "                        <td id=\"T_79cd3750_7c81_11eb_93cc_f218983fc4f4row2_col0\" class=\"data row2 col0\" >0.032</td>\n",
       "                        <td id=\"T_79cd3750_7c81_11eb_93cc_f218983fc4f4row2_col1\" class=\"data row2 col1\" >0.033</td>\n",
       "                        <td id=\"T_79cd3750_7c81_11eb_93cc_f218983fc4f4row2_col2\" class=\"data row2 col2\" >0.029</td>\n",
       "                        <td id=\"T_79cd3750_7c81_11eb_93cc_f218983fc4f4row2_col3\" class=\"data row2 col3\" >0.030</td>\n",
       "            </tr>\n",
       "    </tbody></table>"
      ],
      "text/plain": [
       "<pandas.io.formats.style.Styler at 0x7fac55007670>"
      ]
     },
     "execution_count": 132,
     "metadata": {},
     "output_type": "execute_result"
    }
   ],
   "source": [
    "comparison_data = {'Linear Regression': ['{:.3f}'.format(OSR2(lr, X_test, y_test, y_train)),\n",
    "                                         '{:.4f}'.format(mean_squared_error(y_test, lr.predict(X_test))),\n",
    "                                         '{:.3f}'.format(mean_absolute_error(y_test, lr.predict(X_test)))],\n",
    "                   'Decision Tree Regressor': ['{:.3f}'.format(OSR2(dtr_cv, X_test, y_test, y_train)),\n",
    "                                               '{:.4f}'.format(mean_squared_error(y_test, dtr_cv.predict(X_test))),\n",
    "                                               '{:.3f}'.format(mean_absolute_error(y_test, dtr_cv.predict(X_test)))],\n",
    "                   'Random Forest': ['{:.3f}'.format(OSR2(rf_cv, X_test, y_test, y_train)),\n",
    "                                     '{:.4f}'.format(mean_squared_error(y_test, rf_cv.predict(X_test))),\n",
    "                                     '{:.3f}'.format(mean_absolute_error(y_test, rf_cv.predict(X_test)))],\n",
    "                   'Gradient Boosted Trees': ['{:.3f}'.format(OSR2(gbr_cv, X_test, y_test, y_train)),\n",
    "                                              '{:.4f}'.format(mean_squared_error(y_test, gbr_cv.predict(X_test))),\n",
    "                                              '{:.3f}'.format(mean_absolute_error(y_test, gbr_cv.predict(X_test)))]}\n",
    "\n",
    "comparison_table = pd.DataFrame(data=comparison_data, index=['OSR2', 'Out-of-sample MSE', 'Out-of-sample MAE'])\n",
    "comparison_table.style.set_properties(**{'font-size': '12pt',}).set_table_styles([{'selector': 'th', 'props': [('font-size', '10pt')]}])"
   ]
  },
  {
   "cell_type": "markdown",
   "metadata": {
    "id": "Q1EbKXGONWHW"
   },
   "source": [
    "Let's look at MAE restricted to CTR above and below 10%"
   ]
  },
  {
   "cell_type": "code",
   "execution_count": null,
   "metadata": {
    "id": "Pp7ApBuiNWHX",
    "scrolled": true
   },
   "outputs": [],
   "source": [
    "y_test_above = y_test[y_test >0.1]\n",
    "X_test_above = X_test[y_test >0.1]\n",
    "\n",
    "y_test_below = y_test[y_test <=0.1]\n",
    "X_test_below = X_test[y_test <=0.1]\n",
    "\n",
    "MAE_rf_above = mean_absolute_error(y_test_above, rf_cv.predict(X_test_above))\n",
    "MAE_rf_below = mean_absolute_error(y_test_below, rf_cv.predict(X_test_below))\n",
    "\n",
    "MAE_gbr_above = mean_absolute_error(y_test_above, gbr_cv.predict(X_test_above))\n",
    "MAE_gbr_below = mean_absolute_error(y_test_below, gbr_cv.predict(X_test_below))"
   ]
  },
  {
   "cell_type": "code",
   "execution_count": null,
   "metadata": {
    "id": "jz9hHAOpNWHX",
    "outputId": "921e20c9-b956-46b4-d03c-0f9573c17193"
   },
   "outputs": [
    {
     "name": "stdout",
     "output_type": "stream",
     "text": [
      "Random Forest Out-of-sample MAE for CTR above 10%: 0.076\n",
      "Random Forest Out-of-sample MAE for CTR below 10%: 0.021\n",
      "\n",
      "Gradient Boosted Trees Out-of-sample MAE for CTR above 10%: 0.079\n",
      "Gradient Boosted Trees Out-of-sample MAE for CTR below 10%: 0.021\n"
     ]
    }
   ],
   "source": [
    "print('Random Forest Out-of-sample MAE for CTR above 10%:', round(MAE_rf_above, 3))\n",
    "print('Random Forest Out-of-sample MAE for CTR below 10%:', round(MAE_rf_below, 3))\n",
    "\n",
    "print('\\nGradient Boosted Trees Out-of-sample MAE for CTR above 10%:', round(MAE_gbr_above, 3))\n",
    "print('Gradient Boosted Trees Out-of-sample MAE for CTR below 10%:', round(MAE_gbr_below, 3))"
   ]
  }
 ],
 "metadata": {
  "colab": {
   "provenance": [
    {
     "file_id": "12DROlF4P93eHBIfKIBjq-3eJDbf3mMsq",
     "timestamp": 1713477356587
    }
   ]
  },
  "kernelspec": {
   "display_name": "Python 3 (ipykernel)",
   "language": "python",
   "name": "python3"
  },
  "language_info": {
   "codemirror_mode": {
    "name": "ipython",
    "version": 3
   },
   "file_extension": ".py",
   "mimetype": "text/x-python",
   "name": "python",
   "nbconvert_exporter": "python",
   "pygments_lexer": "ipython3",
   "version": "3.11.9"
  }
 },
 "nbformat": 4,
 "nbformat_minor": 4
}
