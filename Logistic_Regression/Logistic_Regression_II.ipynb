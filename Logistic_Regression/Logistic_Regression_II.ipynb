{
 "cells": [
  {
   "cell_type": "markdown",
   "metadata": {
    "id": "Vv4Fap3IWPcP"
   },
   "source": [
    "# LOGISTIC REGRESSION (Part II)\n",
    "\n"
   ]
  },
  {
   "cell_type": "markdown",
   "metadata": {
    "id": "rb1h29CIWPcQ"
   },
   "source": [
    "## 1. Logistic Regression (Numerical + Categorical Variables)"
   ]
  },
  {
   "cell_type": "markdown",
   "metadata": {
    "id": "vx5QsoZOWPcQ"
   },
   "source": [
    "### 1.1 Data Loading"
   ]
  },
  {
   "cell_type": "code",
   "execution_count": null,
   "metadata": {
    "id": "xZPbyj_VWPcQ"
   },
   "outputs": [],
   "source": [
    "import numpy as np\n",
    "import pandas as pd\n",
    "import os"
   ]
  },
  {
   "cell_type": "code",
   "execution_count": null,
   "metadata": {
    "id": "Hs81n74DWPcR"
   },
   "outputs": [],
   "source": [
    "from sklearn.model_selection import train_test_split\n",
    "import statsmodels.formula.api as smf"
   ]
  },
  {
   "cell_type": "code",
   "execution_count": null,
   "metadata": {
    "colab": {
     "base_uri": "https://localhost:8080/",
     "height": 449
    },
    "executionInfo": {
     "elapsed": 289,
     "status": "ok",
     "timestamp": 1677881725921,
     "user": {
      "displayName": "Ziyang Liu",
      "userId": "10284775615390370340"
     },
     "user_tz": 480
    },
    "id": "ap2v1JdBWPcR",
    "outputId": "ed1047c6-8762-4030-9c89-24f7f232e125"
   },
   "outputs": [
    {
     "name": "stdout",
     "output_type": "stream",
     "text": [
      "<class 'pandas.core.frame.DataFrame'>\n",
      "RangeIndex: 7032 entries, 0 to 7031\n",
      "Data columns (total 7 columns):\n",
      " #   Column           Non-Null Count  Dtype  \n",
      "---  ------           --------------  -----  \n",
      " 0   Churn            7032 non-null   int64  \n",
      " 1   MonthlyCharges   7032 non-null   float64\n",
      " 2   SeniorCitizen    7032 non-null   int64  \n",
      " 3   PaymentMethod    7032 non-null   object \n",
      " 4   InternetService  7032 non-null   object \n",
      " 5   tenure           7032 non-null   int64  \n",
      " 6   Contract         7032 non-null   object \n",
      "dtypes: float64(1), int64(3), object(3)\n",
      "memory usage: 384.7+ KB\n"
     ]
    },
    {
     "data": {
      "text/html": [
       "\n",
       "  <div id=\"df-fc150f30-c907-4a14-9eda-0f532a3cba49\">\n",
       "    <div class=\"colab-df-container\">\n",
       "      <div>\n",
       "<style scoped>\n",
       "    .dataframe tbody tr th:only-of-type {\n",
       "        vertical-align: middle;\n",
       "    }\n",
       "\n",
       "    .dataframe tbody tr th {\n",
       "        vertical-align: top;\n",
       "    }\n",
       "\n",
       "    .dataframe thead th {\n",
       "        text-align: right;\n",
       "    }\n",
       "</style>\n",
       "<table border=\"1\" class=\"dataframe\">\n",
       "  <thead>\n",
       "    <tr style=\"text-align: right;\">\n",
       "      <th></th>\n",
       "      <th>Churn</th>\n",
       "      <th>MonthlyCharges</th>\n",
       "      <th>SeniorCitizen</th>\n",
       "      <th>PaymentMethod</th>\n",
       "      <th>InternetService</th>\n",
       "      <th>tenure</th>\n",
       "      <th>Contract</th>\n",
       "    </tr>\n",
       "  </thead>\n",
       "  <tbody>\n",
       "    <tr>\n",
       "      <th>0</th>\n",
       "      <td>0</td>\n",
       "      <td>29.85</td>\n",
       "      <td>0</td>\n",
       "      <td>Electronic check</td>\n",
       "      <td>DSL</td>\n",
       "      <td>1</td>\n",
       "      <td>Month-to-month</td>\n",
       "    </tr>\n",
       "    <tr>\n",
       "      <th>1</th>\n",
       "      <td>0</td>\n",
       "      <td>56.95</td>\n",
       "      <td>0</td>\n",
       "      <td>Mailed check</td>\n",
       "      <td>DSL</td>\n",
       "      <td>34</td>\n",
       "      <td>One year</td>\n",
       "    </tr>\n",
       "    <tr>\n",
       "      <th>2</th>\n",
       "      <td>1</td>\n",
       "      <td>53.85</td>\n",
       "      <td>0</td>\n",
       "      <td>Mailed check</td>\n",
       "      <td>DSL</td>\n",
       "      <td>2</td>\n",
       "      <td>Month-to-month</td>\n",
       "    </tr>\n",
       "    <tr>\n",
       "      <th>3</th>\n",
       "      <td>0</td>\n",
       "      <td>42.30</td>\n",
       "      <td>0</td>\n",
       "      <td>Bank transfer</td>\n",
       "      <td>DSL</td>\n",
       "      <td>45</td>\n",
       "      <td>One year</td>\n",
       "    </tr>\n",
       "    <tr>\n",
       "      <th>4</th>\n",
       "      <td>1</td>\n",
       "      <td>70.70</td>\n",
       "      <td>0</td>\n",
       "      <td>Electronic check</td>\n",
       "      <td>Fiber optic</td>\n",
       "      <td>2</td>\n",
       "      <td>Month-to-month</td>\n",
       "    </tr>\n",
       "  </tbody>\n",
       "</table>\n",
       "</div>\n",
       "      <button class=\"colab-df-convert\" onclick=\"convertToInteractive('df-fc150f30-c907-4a14-9eda-0f532a3cba49')\"\n",
       "              title=\"Convert this dataframe to an interactive table.\"\n",
       "              style=\"display:none;\">\n",
       "        \n",
       "  <svg xmlns=\"http://www.w3.org/2000/svg\" height=\"24px\"viewBox=\"0 0 24 24\"\n",
       "       width=\"24px\">\n",
       "    <path d=\"M0 0h24v24H0V0z\" fill=\"none\"/>\n",
       "    <path d=\"M18.56 5.44l.94 2.06.94-2.06 2.06-.94-2.06-.94-.94-2.06-.94 2.06-2.06.94zm-11 1L8.5 8.5l.94-2.06 2.06-.94-2.06-.94L8.5 2.5l-.94 2.06-2.06.94zm10 10l.94 2.06.94-2.06 2.06-.94-2.06-.94-.94-2.06-.94 2.06-2.06.94z\"/><path d=\"M17.41 7.96l-1.37-1.37c-.4-.4-.92-.59-1.43-.59-.52 0-1.04.2-1.43.59L10.3 9.45l-7.72 7.72c-.78.78-.78 2.05 0 2.83L4 21.41c.39.39.9.59 1.41.59.51 0 1.02-.2 1.41-.59l7.78-7.78 2.81-2.81c.8-.78.8-2.07 0-2.86zM5.41 20L4 18.59l7.72-7.72 1.47 1.35L5.41 20z\"/>\n",
       "  </svg>\n",
       "      </button>\n",
       "      \n",
       "  <style>\n",
       "    .colab-df-container {\n",
       "      display:flex;\n",
       "      flex-wrap:wrap;\n",
       "      gap: 12px;\n",
       "    }\n",
       "\n",
       "    .colab-df-convert {\n",
       "      background-color: #E8F0FE;\n",
       "      border: none;\n",
       "      border-radius: 50%;\n",
       "      cursor: pointer;\n",
       "      display: none;\n",
       "      fill: #1967D2;\n",
       "      height: 32px;\n",
       "      padding: 0 0 0 0;\n",
       "      width: 32px;\n",
       "    }\n",
       "\n",
       "    .colab-df-convert:hover {\n",
       "      background-color: #E2EBFA;\n",
       "      box-shadow: 0px 1px 2px rgba(60, 64, 67, 0.3), 0px 1px 3px 1px rgba(60, 64, 67, 0.15);\n",
       "      fill: #174EA6;\n",
       "    }\n",
       "\n",
       "    [theme=dark] .colab-df-convert {\n",
       "      background-color: #3B4455;\n",
       "      fill: #D2E3FC;\n",
       "    }\n",
       "\n",
       "    [theme=dark] .colab-df-convert:hover {\n",
       "      background-color: #434B5C;\n",
       "      box-shadow: 0px 1px 3px 1px rgba(0, 0, 0, 0.15);\n",
       "      filter: drop-shadow(0px 1px 2px rgba(0, 0, 0, 0.3));\n",
       "      fill: #FFFFFF;\n",
       "    }\n",
       "  </style>\n",
       "\n",
       "      <script>\n",
       "        const buttonEl =\n",
       "          document.querySelector('#df-fc150f30-c907-4a14-9eda-0f532a3cba49 button.colab-df-convert');\n",
       "        buttonEl.style.display =\n",
       "          google.colab.kernel.accessAllowed ? 'block' : 'none';\n",
       "\n",
       "        async function convertToInteractive(key) {\n",
       "          const element = document.querySelector('#df-fc150f30-c907-4a14-9eda-0f532a3cba49');\n",
       "          const dataTable =\n",
       "            await google.colab.kernel.invokeFunction('convertToInteractive',\n",
       "                                                     [key], {});\n",
       "          if (!dataTable) return;\n",
       "\n",
       "          const docLinkHtml = 'Like what you see? Visit the ' +\n",
       "            '<a target=\"_blank\" href=https://colab.research.google.com/notebooks/data_table.ipynb>data table notebook</a>'\n",
       "            + ' to learn more about interactive tables.';\n",
       "          element.innerHTML = '';\n",
       "          dataTable['output_type'] = 'display_data';\n",
       "          await google.colab.output.renderOutput(dataTable, element);\n",
       "          const docLink = document.createElement('div');\n",
       "          docLink.innerHTML = docLinkHtml;\n",
       "          element.appendChild(docLink);\n",
       "        }\n",
       "      </script>\n",
       "    </div>\n",
       "  </div>\n",
       "  "
      ],
      "text/plain": [
       "   Churn  MonthlyCharges  SeniorCitizen     PaymentMethod InternetService  \\\n",
       "0      0           29.85              0  Electronic check             DSL   \n",
       "1      0           56.95              0      Mailed check             DSL   \n",
       "2      1           53.85              0      Mailed check             DSL   \n",
       "3      0           42.30              0     Bank transfer             DSL   \n",
       "4      1           70.70              0  Electronic check     Fiber optic   \n",
       "\n",
       "   tenure        Contract  \n",
       "0       1  Month-to-month  \n",
       "1      34        One year  \n",
       "2       2  Month-to-month  \n",
       "3      45        One year  \n",
       "4       2  Month-to-month  "
      ]
     },
     "execution_count": 3,
     "metadata": {},
     "output_type": "execute_result"
    }
   ],
   "source": [
    "churn = pd.read_csv(\"customerchurn.csv\")\n",
    "churn.info()\n",
    "churn.head()"
   ]
  },
  {
   "cell_type": "markdown",
   "metadata": {
    "id": "BF1K9YGLWPcR"
   },
   "source": [
    "### 1.2 Train Test Split"
   ]
  },
  {
   "cell_type": "code",
   "execution_count": null,
   "metadata": {
    "colab": {
     "base_uri": "https://localhost:8080/"
    },
    "executionInfo": {
     "elapsed": 133,
     "status": "ok",
     "timestamp": 1677881815623,
     "user": {
      "displayName": "Ziyang Liu",
      "userId": "10284775615390370340"
     },
     "user_tz": 480
    },
    "id": "-qyQWhfLWPcR",
    "outputId": "f86e38bb-d475-4f95-923c-3dc2cb7cd48b"
   },
   "outputs": [
    {
     "data": {
      "text/plain": [
       "((4922, 7), (2110, 7))"
      ]
     },
     "execution_count": 4,
     "metadata": {},
     "output_type": "execute_result"
    }
   ],
   "source": [
    "churn_train, churn_test = train_test_split(churn, test_size=0.3, random_state=88)\n",
    "churn_train.shape, churn_test.shape"
   ]
  },
  {
   "cell_type": "markdown",
   "metadata": {
    "id": "SUcitf0HWPcR"
   },
   "source": [
    "### 1.3 Model Fitting and Variable Selection"
   ]
  },
  {
   "cell_type": "code",
   "execution_count": null,
   "metadata": {
    "colab": {
     "base_uri": "https://localhost:8080/"
    },
    "executionInfo": {
     "elapsed": 217,
     "status": "ok",
     "timestamp": 1677881834414,
     "user": {
      "displayName": "Ziyang Liu",
      "userId": "10284775615390370340"
     },
     "user_tz": 480
    },
    "id": "aG87S2IlWPcR",
    "outputId": "b183b5c1-806d-4d46-8fcd-83b94626b8c3"
   },
   "outputs": [
    {
     "name": "stdout",
     "output_type": "stream",
     "text": [
      "Optimization terminated successfully.\n",
      "         Current function value: 0.421913\n",
      "         Iterations 8\n",
      "                           Logit Regression Results                           \n",
      "==============================================================================\n",
      "Dep. Variable:                  Churn   No. Observations:                 4922\n",
      "Model:                          Logit   Df Residuals:                     4911\n",
      "Method:                           MLE   Df Model:                           10\n",
      "Date:                Fri, 03 Mar 2023   Pseudo R-squ.:                  0.2695\n",
      "Time:                        22:17:15   Log-Likelihood:                -2076.7\n",
      "converged:                       True   LL-Null:                       -2842.6\n",
      "Covariance Type:            nonrobust   LLR p-value:                     0.000\n",
      "=====================================================================================================\n",
      "                                        coef    std err          z      P>|z|      [0.025      0.975]\n",
      "-----------------------------------------------------------------------------------------------------\n",
      "Intercept                            -0.8982      0.213     -4.217      0.000      -1.316      -0.481\n",
      "PaymentMethod[T.Credit card]         -0.1066      0.134     -0.795      0.427      -0.369       0.156\n",
      "PaymentMethod[T.Electronic check]     0.4394      0.110      3.984      0.000       0.223       0.656\n",
      "PaymentMethod[T.Mailed check]        -0.0373      0.135     -0.277      0.782      -0.302       0.227\n",
      "InternetService[T.Fiber optic]        0.8217      0.154      5.336      0.000       0.520       1.123\n",
      "InternetService[T.No]                -0.7265      0.185     -3.925      0.000      -1.089      -0.364\n",
      "Contract[T.One year]                 -0.8444      0.124     -6.815      0.000      -1.087      -0.602\n",
      "Contract[T.Two year]                 -1.9124      0.226     -8.466      0.000      -2.355      -1.470\n",
      "MonthlyCharges                        0.0067      0.004      1.857      0.063      -0.000       0.014\n",
      "SeniorCitizen                         0.3852      0.097      3.981      0.000       0.196       0.575\n",
      "tenure                               -0.0296      0.003    -11.559      0.000      -0.035      -0.025\n",
      "=====================================================================================================\n"
     ]
    }
   ],
   "source": [
    "logreg = smf.logit(formula = 'Churn ~ MonthlyCharges + SeniorCitizen + PaymentMethod + InternetService + tenure + Contract',\n",
    "                       data = churn_train).fit()\n",
    "print(logreg.summary())"
   ]
  },
  {
   "cell_type": "code",
   "execution_count": null,
   "metadata": {
    "colab": {
     "base_uri": "https://localhost:8080/"
    },
    "executionInfo": {
     "elapsed": 237,
     "status": "ok",
     "timestamp": 1677881894525,
     "user": {
      "displayName": "Ziyang Liu",
      "userId": "10284775615390370340"
     },
     "user_tz": 480
    },
    "id": "YK9mWxQeWPcS",
    "outputId": "fa6dc31c-95b7-41e4-9465-2e8d5900e624"
   },
   "outputs": [
    {
     "name": "stdout",
     "output_type": "stream",
     "text": [
      "Optimization terminated successfully.\n",
      "         Current function value: 0.422264\n",
      "         Iterations 8\n",
      "                           Logit Regression Results                           \n",
      "==============================================================================\n",
      "Dep. Variable:                  Churn   No. Observations:                 4922\n",
      "Model:                          Logit   Df Residuals:                     4912\n",
      "Method:                           MLE   Df Model:                            9\n",
      "Date:                Fri, 03 Mar 2023   Pseudo R-squ.:                  0.2688\n",
      "Time:                        22:18:15   Log-Likelihood:                -2078.4\n",
      "converged:                       True   LL-Null:                       -2842.6\n",
      "Covariance Type:            nonrobust   LLR p-value:                     0.000\n",
      "=====================================================================================================\n",
      "                                        coef    std err          z      P>|z|      [0.025      0.975]\n",
      "-----------------------------------------------------------------------------------------------------\n",
      "Intercept                            -0.5748      0.122     -4.724      0.000      -0.813      -0.336\n",
      "PaymentMethod[T.Credit card]         -0.1121      0.134     -0.836      0.403      -0.375       0.151\n",
      "PaymentMethod[T.Electronic check]     0.4389      0.110      3.982      0.000       0.223       0.655\n",
      "PaymentMethod[T.Mailed check]        -0.0463      0.135     -0.344      0.731      -0.311       0.218\n",
      "InternetService[T.Fiber optic]        1.0555      0.090     11.744      0.000       0.879       1.232\n",
      "InternetService[T.No]                -0.9328      0.147     -6.331      0.000      -1.222      -0.644\n",
      "Contract[T.One year]                 -0.8110      0.122     -6.622      0.000      -1.051      -0.571\n",
      "Contract[T.Two year]                 -1.8682      0.225     -8.321      0.000      -2.308      -1.428\n",
      "SeniorCitizen                         0.3818      0.097      3.948      0.000       0.192       0.571\n",
      "tenure                               -0.0280      0.002    -11.650      0.000      -0.033      -0.023\n",
      "=====================================================================================================\n"
     ]
    }
   ],
   "source": [
    "# Let's remove MonthlyCharges\n",
    "logreg2 = smf.logit(formula = 'Churn ~ SeniorCitizen + PaymentMethod + InternetService + tenure + Contract',\n",
    "                       data = churn_train).fit()\n",
    "print(logreg2.summary())"
   ]
  },
  {
   "cell_type": "code",
   "execution_count": null,
   "metadata": {
    "colab": {
     "base_uri": "https://localhost:8080/",
     "height": 206
    },
    "executionInfo": {
     "elapsed": 194,
     "status": "ok",
     "timestamp": 1677882055668,
     "user": {
      "displayName": "Ziyang Liu",
      "userId": "10284775615390370340"
     },
     "user_tz": 480
    },
    "id": "enlK63tuWPcS",
    "outputId": "596d59a8-79f6-40c0-bca5-d73f7179c900"
   },
   "outputs": [
    {
     "data": {
      "text/html": [
       "\n",
       "  <div id=\"df-02373c44-eff0-4ee9-a9a6-a27a0f9a95e9\">\n",
       "    <div class=\"colab-df-container\">\n",
       "      <div>\n",
       "<style scoped>\n",
       "    .dataframe tbody tr th:only-of-type {\n",
       "        vertical-align: middle;\n",
       "    }\n",
       "\n",
       "    .dataframe tbody tr th {\n",
       "        vertical-align: top;\n",
       "    }\n",
       "\n",
       "    .dataframe thead th {\n",
       "        text-align: right;\n",
       "    }\n",
       "</style>\n",
       "<table border=\"1\" class=\"dataframe\">\n",
       "  <thead>\n",
       "    <tr style=\"text-align: right;\">\n",
       "      <th></th>\n",
       "      <th>Churn</th>\n",
       "      <th>MonthlyCharges</th>\n",
       "      <th>SeniorCitizen</th>\n",
       "      <th>InternetService</th>\n",
       "      <th>tenure</th>\n",
       "      <th>Contract</th>\n",
       "      <th>ElectronicCheck</th>\n",
       "    </tr>\n",
       "  </thead>\n",
       "  <tbody>\n",
       "    <tr>\n",
       "      <th>2839</th>\n",
       "      <td>1</td>\n",
       "      <td>99.60</td>\n",
       "      <td>1</td>\n",
       "      <td>Fiber optic</td>\n",
       "      <td>4</td>\n",
       "      <td>Month-to-month</td>\n",
       "      <td>1</td>\n",
       "    </tr>\n",
       "    <tr>\n",
       "      <th>4965</th>\n",
       "      <td>0</td>\n",
       "      <td>93.80</td>\n",
       "      <td>1</td>\n",
       "      <td>Fiber optic</td>\n",
       "      <td>13</td>\n",
       "      <td>Month-to-month</td>\n",
       "      <td>0</td>\n",
       "    </tr>\n",
       "    <tr>\n",
       "      <th>6686</th>\n",
       "      <td>0</td>\n",
       "      <td>96.55</td>\n",
       "      <td>0</td>\n",
       "      <td>Fiber optic</td>\n",
       "      <td>5</td>\n",
       "      <td>Month-to-month</td>\n",
       "      <td>1</td>\n",
       "    </tr>\n",
       "    <tr>\n",
       "      <th>4151</th>\n",
       "      <td>0</td>\n",
       "      <td>25.20</td>\n",
       "      <td>0</td>\n",
       "      <td>No</td>\n",
       "      <td>39</td>\n",
       "      <td>Two year</td>\n",
       "      <td>0</td>\n",
       "    </tr>\n",
       "    <tr>\n",
       "      <th>241</th>\n",
       "      <td>0</td>\n",
       "      <td>109.20</td>\n",
       "      <td>0</td>\n",
       "      <td>Fiber optic</td>\n",
       "      <td>72</td>\n",
       "      <td>Two year</td>\n",
       "      <td>0</td>\n",
       "    </tr>\n",
       "  </tbody>\n",
       "</table>\n",
       "</div>\n",
       "      <button class=\"colab-df-convert\" onclick=\"convertToInteractive('df-02373c44-eff0-4ee9-a9a6-a27a0f9a95e9')\"\n",
       "              title=\"Convert this dataframe to an interactive table.\"\n",
       "              style=\"display:none;\">\n",
       "        \n",
       "  <svg xmlns=\"http://www.w3.org/2000/svg\" height=\"24px\"viewBox=\"0 0 24 24\"\n",
       "       width=\"24px\">\n",
       "    <path d=\"M0 0h24v24H0V0z\" fill=\"none\"/>\n",
       "    <path d=\"M18.56 5.44l.94 2.06.94-2.06 2.06-.94-2.06-.94-.94-2.06-.94 2.06-2.06.94zm-11 1L8.5 8.5l.94-2.06 2.06-.94-2.06-.94L8.5 2.5l-.94 2.06-2.06.94zm10 10l.94 2.06.94-2.06 2.06-.94-2.06-.94-.94-2.06-.94 2.06-2.06.94z\"/><path d=\"M17.41 7.96l-1.37-1.37c-.4-.4-.92-.59-1.43-.59-.52 0-1.04.2-1.43.59L10.3 9.45l-7.72 7.72c-.78.78-.78 2.05 0 2.83L4 21.41c.39.39.9.59 1.41.59.51 0 1.02-.2 1.41-.59l7.78-7.78 2.81-2.81c.8-.78.8-2.07 0-2.86zM5.41 20L4 18.59l7.72-7.72 1.47 1.35L5.41 20z\"/>\n",
       "  </svg>\n",
       "      </button>\n",
       "      \n",
       "  <style>\n",
       "    .colab-df-container {\n",
       "      display:flex;\n",
       "      flex-wrap:wrap;\n",
       "      gap: 12px;\n",
       "    }\n",
       "\n",
       "    .colab-df-convert {\n",
       "      background-color: #E8F0FE;\n",
       "      border: none;\n",
       "      border-radius: 50%;\n",
       "      cursor: pointer;\n",
       "      display: none;\n",
       "      fill: #1967D2;\n",
       "      height: 32px;\n",
       "      padding: 0 0 0 0;\n",
       "      width: 32px;\n",
       "    }\n",
       "\n",
       "    .colab-df-convert:hover {\n",
       "      background-color: #E2EBFA;\n",
       "      box-shadow: 0px 1px 2px rgba(60, 64, 67, 0.3), 0px 1px 3px 1px rgba(60, 64, 67, 0.15);\n",
       "      fill: #174EA6;\n",
       "    }\n",
       "\n",
       "    [theme=dark] .colab-df-convert {\n",
       "      background-color: #3B4455;\n",
       "      fill: #D2E3FC;\n",
       "    }\n",
       "\n",
       "    [theme=dark] .colab-df-convert:hover {\n",
       "      background-color: #434B5C;\n",
       "      box-shadow: 0px 1px 3px 1px rgba(0, 0, 0, 0.15);\n",
       "      filter: drop-shadow(0px 1px 2px rgba(0, 0, 0, 0.3));\n",
       "      fill: #FFFFFF;\n",
       "    }\n",
       "  </style>\n",
       "\n",
       "      <script>\n",
       "        const buttonEl =\n",
       "          document.querySelector('#df-02373c44-eff0-4ee9-a9a6-a27a0f9a95e9 button.colab-df-convert');\n",
       "        buttonEl.style.display =\n",
       "          google.colab.kernel.accessAllowed ? 'block' : 'none';\n",
       "\n",
       "        async function convertToInteractive(key) {\n",
       "          const element = document.querySelector('#df-02373c44-eff0-4ee9-a9a6-a27a0f9a95e9');\n",
       "          const dataTable =\n",
       "            await google.colab.kernel.invokeFunction('convertToInteractive',\n",
       "                                                     [key], {});\n",
       "          if (!dataTable) return;\n",
       "\n",
       "          const docLinkHtml = 'Like what you see? Visit the ' +\n",
       "            '<a target=\"_blank\" href=https://colab.research.google.com/notebooks/data_table.ipynb>data table notebook</a>'\n",
       "            + ' to learn more about interactive tables.';\n",
       "          element.innerHTML = '';\n",
       "          dataTable['output_type'] = 'display_data';\n",
       "          await google.colab.output.renderOutput(dataTable, element);\n",
       "          const docLink = document.createElement('div');\n",
       "          docLink.innerHTML = docLinkHtml;\n",
       "          element.appendChild(docLink);\n",
       "        }\n",
       "      </script>\n",
       "    </div>\n",
       "  </div>\n",
       "  "
      ],
      "text/plain": [
       "      Churn  MonthlyCharges  SeniorCitizen InternetService  tenure  \\\n",
       "2839      1           99.60              1     Fiber optic       4   \n",
       "4965      0           93.80              1     Fiber optic      13   \n",
       "6686      0           96.55              0     Fiber optic       5   \n",
       "4151      0           25.20              0              No      39   \n",
       "241       0          109.20              0     Fiber optic      72   \n",
       "\n",
       "            Contract  ElectronicCheck  \n",
       "2839  Month-to-month                1  \n",
       "4965  Month-to-month                0  \n",
       "6686  Month-to-month                1  \n",
       "4151        Two year                0  \n",
       "241         Two year                0  "
      ]
     },
     "execution_count": 7,
     "metadata": {},
     "output_type": "execute_result"
    }
   ],
   "source": [
    "# Let's remove PaymentMethod Credit Card and PaymentMethod Mailed check. How do we do this?\n",
    "# Create a new feature (dummy variable).\n",
    "\n",
    "churn_train2 = churn_train.copy()\n",
    "churn_train2['ElectronicCheck'] = (churn_train2['PaymentMethod'] == 'Electronic check').astype('int64')\n",
    "churn_train2.drop(columns=['PaymentMethod'], inplace=True)\n",
    "\n",
    "# Let's do the same for test set as well\n",
    "\n",
    "churn_test2 = churn_test.copy()\n",
    "churn_test2['ElectronicCheck'] = (churn_test2['PaymentMethod'] == 'Electronic check').astype('int64')\n",
    "churn_test2.drop(columns=['PaymentMethod'], inplace=True)\n",
    "\n",
    "churn_test2.head()"
   ]
  },
  {
   "cell_type": "code",
   "execution_count": null,
   "metadata": {
    "colab": {
     "base_uri": "https://localhost:8080/"
    },
    "executionInfo": {
     "elapsed": 527,
     "status": "ok",
     "timestamp": 1677882144297,
     "user": {
      "displayName": "Ziyang Liu",
      "userId": "10284775615390370340"
     },
     "user_tz": 480
    },
    "id": "810bittDWPcS",
    "outputId": "ffe7b41f-b7b2-4a5d-cf31-c9de7de0bb77"
   },
   "outputs": [
    {
     "name": "stdout",
     "output_type": "stream",
     "text": [
      "Optimization terminated successfully.\n",
      "         Current function value: 0.422336\n",
      "         Iterations 8\n",
      "                           Logit Regression Results                           \n",
      "==============================================================================\n",
      "Dep. Variable:                  Churn   No. Observations:                 4922\n",
      "Model:                          Logit   Df Residuals:                     4914\n",
      "Method:                           MLE   Df Model:                            7\n",
      "Date:                Fri, 03 Mar 2023   Pseudo R-squ.:                  0.2687\n",
      "Time:                        22:22:25   Log-Likelihood:                -2078.7\n",
      "converged:                       True   LL-Null:                       -2842.6\n",
      "Covariance Type:            nonrobust   LLR p-value:                     0.000\n",
      "==================================================================================================\n",
      "                                     coef    std err          z      P>|z|      [0.025      0.975]\n",
      "--------------------------------------------------------------------------------------------------\n",
      "Intercept                         -0.6254      0.085     -7.363      0.000      -0.792      -0.459\n",
      "InternetService[T.Fiber optic]     1.0549      0.089     11.817      0.000       0.880       1.230\n",
      "InternetService[T.No]             -0.9313      0.146     -6.384      0.000      -1.217      -0.645\n",
      "Contract[T.One year]              -0.8125      0.122     -6.635      0.000      -1.053      -0.573\n",
      "Contract[T.Two year]              -1.8704      0.224     -8.332      0.000      -2.310      -1.430\n",
      "SeniorCitizen                      0.3813      0.097      3.945      0.000       0.192       0.571\n",
      "ElectronicCheck                    0.4901      0.080      6.098      0.000       0.333       0.648\n",
      "tenure                            -0.0280      0.002    -11.928      0.000      -0.033      -0.023\n",
      "==================================================================================================\n"
     ]
    }
   ],
   "source": [
    "logreg3 = smf.logit(formula = 'Churn ~ SeniorCitizen + ElectronicCheck + InternetService + tenure + Contract',\n",
    "                       data = churn_train2).fit()\n",
    "print(logreg3.summary())"
   ]
  },
  {
   "cell_type": "markdown",
   "metadata": {
    "id": "Ksngh7_CWPcS"
   },
   "source": [
    "### 1.4 Predicting the Probability and Deciding the Threshold"
   ]
  },
  {
   "cell_type": "code",
   "execution_count": null,
   "metadata": {
    "id": "gj9G6MEqWPcS"
   },
   "outputs": [],
   "source": [
    "# 1. Predicting the probability of default\n",
    "y_prob = logreg3.predict(churn_test2)\n",
    "\n",
    "# 2. Determining the optimal threshold of the default probability\n",
    "## price reduction = 800 and no price reduction = 1000\n",
    "## 800 (1 - p/2) = 1000 (1 - p) -> p = 0.333 (Slides 47-48, Lecture 7).\n",
    "## The threshold of high churn-risk and low churn-risk is 0.333.\n",
    "## If p > 1/3, then we consider high churn-risk and give them the price reduction because\n",
    "## our expected profit for no price reduction > expected profit for price reduction\n",
    "\n",
    "# 3. Predicting the label\n",
    "y_pred = pd.Series([1 if x > 1/3 else 0 for x in y_prob], index=y_prob.index)"
   ]
  },
  {
   "cell_type": "markdown",
   "metadata": {
    "id": "H7hxd8wIWPcS"
   },
   "source": [
    "### 1.5 Confusion Matrix Given a Decision Threshold"
   ]
  },
  {
   "cell_type": "code",
   "execution_count": null,
   "metadata": {
    "colab": {
     "base_uri": "https://localhost:8080/"
    },
    "executionInfo": {
     "elapsed": 153,
     "status": "ok",
     "timestamp": 1677882540568,
     "user": {
      "displayName": "Ziyang Liu",
      "userId": "10284775615390370340"
     },
     "user_tz": 480
    },
    "id": "B8jnfarYWPcS",
    "outputId": "40655e9f-1657-452d-cd3e-71cd1cb73953"
   },
   "outputs": [
    {
     "name": "stdout",
     "output_type": "stream",
     "text": [
      "Confusion Matrix : \n",
      " [[1213  329]\n",
      " [ 154  414]]\n"
     ]
    }
   ],
   "source": [
    "# Now we have our probabiltiy of default, we can construct a confusion matrix based on decision tree threshold we have computed\n",
    "# price reduction = 800 and no price reduction = 1000\n",
    "# 800 (1 - p/2) = 1000 (1 - p) -> p = 0.333 (Slides 47-48, Lecture 7).\n",
    "# High churn risk > 0.333.\n",
    "# or high churn risk, the expected return of discount is higher than no discount, b/c the prob of retention is lower for no discount\n",
    "\n",
    "from sklearn.metrics import confusion_matrix\n",
    "y_test = churn_test2['Churn']\n",
    "\n",
    "cm = confusion_matrix(y_test, y_pred)\n",
    "print (\"Confusion Matrix : \\n\", cm)\n",
    "# Note that this confusion matrix is slightly different from the results presented in Lecture 7 slides. Those numbers\n",
    "# were generated by the R program in the previous semester, which had a different random.seed and therefore a different\n",
    "# train test split."
   ]
  },
  {
   "cell_type": "markdown",
   "metadata": {
    "id": "4u8QwQt4WPcT"
   },
   "source": [
    "### 1.7 ROC Curves"
   ]
  },
  {
   "cell_type": "markdown",
   "metadata": {
    "id": "M1Lf-x0lWPcT"
   },
   "source": [
    "The ROC curve plots the TPR and FPR for every break-even threshold p between 0.0 and 1.0"
   ]
  },
  {
   "cell_type": "code",
   "execution_count": null,
   "metadata": {
    "id": "1bOPa7u7WPcT"
   },
   "outputs": [],
   "source": [
    "y_train = churn_train2['Churn']\n",
    "X_train = churn_train2.drop(['Churn'], axis=1)\n",
    "\n",
    "y_test = churn_test2['Churn']\n",
    "X_test = churn_test2.drop(['Churn'], axis=1)"
   ]
  },
  {
   "cell_type": "code",
   "execution_count": null,
   "metadata": {
    "colab": {
     "base_uri": "https://localhost:8080/",
     "height": 413
    },
    "executionInfo": {
     "elapsed": 320,
     "status": "ok",
     "timestamp": 1677882747325,
     "user": {
      "displayName": "Ziyang Liu",
      "userId": "10284775615390370340"
     },
     "user_tz": 480
    },
    "id": "u2WVbc6CWPcT",
    "outputId": "54b12e69-85d2-483e-9929-3b654e3f7ac4"
   },
   "outputs": [
    {
     "data": {
      "image/png": "[encoded data removed]",
      "text/plain": [
       "<Figure size 576x432 with 1 Axes>"
      ]
     },
     "metadata": {
      "needs_background": "light"
     },
     "output_type": "display_data"
    }
   ],
   "source": [
    "import matplotlib.pyplot as plt\n",
    "from sklearn.metrics import roc_curve, auc\n",
    "\n",
    "fpr, tpr, _ = roc_curve(y_test, y_prob)\n",
    "roc_auc = auc(fpr, tpr)\n",
    "\n",
    "plt.figure(figsize=(8, 6))\n",
    "plt.title('ROC Curve', fontsize=18)\n",
    "plt.xlabel('FPR', fontsize=16)\n",
    "plt.ylabel('TPR', fontsize=16)\n",
    "plt.xlim([-0.01, 1.00])\n",
    "plt.ylim([-0.01, 1.01])\n",
    "plt.plot(fpr, tpr, lw=3, label='Logistic Regression (area = {:0.2f})'.format(roc_auc))\n",
    "plt.plot([0, 1], [0, 1], color='navy', lw=3, linestyle='--', label='Naive Baseline (area = 0.50)')\n",
    "plt.legend(loc='lower right', fontsize=14)\n",
    "plt.show()"
   ]
  },
  {
   "cell_type": "code",
   "execution_count": null,
   "metadata": {
    "id": "qGCkdQKbWPcU"
   },
   "outputs": [],
   "source": []
  }
 ],
 "metadata": {
  "colab": {
   "provenance": []
  },
  "kernelspec": {
   "display_name": "Python 3 (ipykernel)",
   "language": "python",
   "name": "python3"
  },
  "language_info": {
   "codemirror_mode": {
    "name": "ipython",
    "version": 3
   },
   "file_extension": ".py",
   "mimetype": "text/x-python",
   "name": "python",
   "nbconvert_exporter": "python",
   "pygments_lexer": "ipython3",
   "version": "3.11.9"
  }
 },
 "nbformat": 4,
 "nbformat_minor": 4
}
